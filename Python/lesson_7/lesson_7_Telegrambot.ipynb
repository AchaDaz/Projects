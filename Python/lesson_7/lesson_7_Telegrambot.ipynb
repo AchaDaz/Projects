{
 "cells": [
  {
   "cell_type": "code",
   "execution_count": 3,
   "id": "3a1eca00",
   "metadata": {},
   "outputs": [],
   "source": [
    "import pandas as pd\n",
    "import json\n",
    "from urllib.parse import urlencode\n",
    "import requests"
   ]
  },
  {
   "cell_type": "code",
   "execution_count": 6,
   "id": "123",
   "metadata": {},
   "outputs": [],
   "source": [
    "token = 'xxx'",
    "chat_id ='eee\n'",
    "\n",
    "message = 'Have no idea how to use it'\n",
    "\n",
    "params = {'chat_id': chat_id, 'text': message}\n",
    "\n",
    "base_url = f'https://api.telegram.org/bot{token}/'\n",
    "url = base_url + 'sendMessage?' + urlencode(params)\n",
    "\n",
    "\n",
    "resp = requests.get(url)\n"
   ]
  },
  {
   "cell_type": "code",
   "execution_count": null,
   "id": "2d81647e",
   "metadata": {},
   "outputs": [],
   "source": []
  }
 ],
 "metadata": {
  "kernelspec": {
   "display_name": "Python 3 (ipykernel)",
   "language": "python",
   "name": "python3"
  },
  "language_info": {
   "codemirror_mode": {
    "name": "ipython",
    "version": 3
   },
   "file_extension": ".py",
   "mimetype": "text/x-python",
   "name": "python",
   "nbconvert_exporter": "python",
   "pygments_lexer": "ipython3",
   "version": "3.8.10"
  }
 },
 "nbformat": 4,
 "nbformat_minor": 5
}
