{
 "cells": [
  {
   "cell_type": "code",
   "execution_count": 221,
   "id": "6c935316",
   "metadata": {},
   "outputs": [],
   "source": [
    "import pandas as pd\n",
    "import seaborn as sns\n",
    "import matplotlib.pyplot as plt\n",
    "import requests\n",
    "import json\n",
    "import gspread\n",
    "from df2gspread import df2gspread as d2g\n",
    "from oauth2client.service_account import ServiceAccountCredentials\n",
    "import vk_api\n",
    "import random"
   ]
  },
  {
   "cell_type": "code",
   "execution_count": 2,
   "id": "6ba56879",
   "metadata": {},
   "outputs": [],
   "source": [
    "df = pd.read_csv('step_1_lesson_7.csv')"
   ]
  },
  {
   "cell_type": "code",
   "execution_count": 3,
   "id": "2bedc3c5",
   "metadata": {},
   "outputs": [
    {
     "data": {
      "text/html": [
       "<div>\n",
       "<style scoped>\n",
       "    .dataframe tbody tr th:only-of-type {\n",
       "        vertical-align: middle;\n",
       "    }\n",
       "\n",
       "    .dataframe tbody tr th {\n",
       "        vertical-align: top;\n",
       "    }\n",
       "\n",
       "    .dataframe thead th {\n",
       "        text-align: right;\n",
       "    }\n",
       "</style>\n",
       "<table border=\"1\" class=\"dataframe\">\n",
       "  <thead>\n",
       "    <tr style=\"text-align: right;\">\n",
       "      <th></th>\n",
       "      <th>date</th>\n",
       "      <th>user_type</th>\n",
       "      <th>visits</th>\n",
       "    </tr>\n",
       "  </thead>\n",
       "  <tbody>\n",
       "    <tr>\n",
       "      <th>0</th>\n",
       "      <td>2020-06-15</td>\n",
       "      <td>People</td>\n",
       "      <td>417.0</td>\n",
       "    </tr>\n",
       "    <tr>\n",
       "      <th>1</th>\n",
       "      <td>2020-06-15</td>\n",
       "      <td>Robots</td>\n",
       "      <td>177.0</td>\n",
       "    </tr>\n",
       "    <tr>\n",
       "      <th>2</th>\n",
       "      <td>2020-06-16</td>\n",
       "      <td>People</td>\n",
       "      <td>472.0</td>\n",
       "    </tr>\n",
       "    <tr>\n",
       "      <th>3</th>\n",
       "      <td>2020-06-16</td>\n",
       "      <td>Robots</td>\n",
       "      <td>91.0</td>\n",
       "    </tr>\n",
       "    <tr>\n",
       "      <th>4</th>\n",
       "      <td>2020-06-17</td>\n",
       "      <td>People</td>\n",
       "      <td>475.0</td>\n",
       "    </tr>\n",
       "  </tbody>\n",
       "</table>\n",
       "</div>"
      ],
      "text/plain": [
       "         date user_type  visits\n",
       "0  2020-06-15    People   417.0\n",
       "1  2020-06-15    Robots   177.0\n",
       "2  2020-06-16    People   472.0\n",
       "3  2020-06-16    Robots    91.0\n",
       "4  2020-06-17    People   475.0"
      ]
     },
     "execution_count": 3,
     "metadata": {},
     "output_type": "execute_result"
    }
   ],
   "source": [
    "df.head()"
   ]
  },
  {
   "cell_type": "code",
   "execution_count": 4,
   "id": "c91a0e3e",
   "metadata": {},
   "outputs": [
    {
     "data": {
      "text/plain": [
       "(6, 3)"
      ]
     },
     "execution_count": 4,
     "metadata": {},
     "output_type": "execute_result"
    }
   ],
   "source": [
    "df.shape"
   ]
  },
  {
   "cell_type": "code",
   "execution_count": 8,
   "id": "72bc7f66",
   "metadata": {},
   "outputs": [],
   "source": [
    "df_people = df.query('user_type == \"People\"')\n",
    "df_robots = df.query('user_type == \"Robots\"')"
   ]
  },
  {
   "cell_type": "code",
   "execution_count": 9,
   "id": "a0254ba1",
   "metadata": {},
   "outputs": [
    {
     "data": {
      "text/html": [
       "<div>\n",
       "<style scoped>\n",
       "    .dataframe tbody tr th:only-of-type {\n",
       "        vertical-align: middle;\n",
       "    }\n",
       "\n",
       "    .dataframe tbody tr th {\n",
       "        vertical-align: top;\n",
       "    }\n",
       "\n",
       "    .dataframe thead th {\n",
       "        text-align: right;\n",
       "    }\n",
       "</style>\n",
       "<table border=\"1\" class=\"dataframe\">\n",
       "  <thead>\n",
       "    <tr style=\"text-align: right;\">\n",
       "      <th></th>\n",
       "      <th>date</th>\n",
       "      <th>user_type</th>\n",
       "      <th>visits</th>\n",
       "    </tr>\n",
       "  </thead>\n",
       "  <tbody>\n",
       "    <tr>\n",
       "      <th>0</th>\n",
       "      <td>2020-06-15</td>\n",
       "      <td>People</td>\n",
       "      <td>417.0</td>\n",
       "    </tr>\n",
       "    <tr>\n",
       "      <th>2</th>\n",
       "      <td>2020-06-16</td>\n",
       "      <td>People</td>\n",
       "      <td>472.0</td>\n",
       "    </tr>\n",
       "    <tr>\n",
       "      <th>4</th>\n",
       "      <td>2020-06-17</td>\n",
       "      <td>People</td>\n",
       "      <td>475.0</td>\n",
       "    </tr>\n",
       "  </tbody>\n",
       "</table>\n",
       "</div>"
      ],
      "text/plain": [
       "         date user_type  visits\n",
       "0  2020-06-15    People   417.0\n",
       "2  2020-06-16    People   472.0\n",
       "4  2020-06-17    People   475.0"
      ]
     },
     "execution_count": 9,
     "metadata": {},
     "output_type": "execute_result"
    }
   ],
   "source": [
    "df_people"
   ]
  },
  {
   "cell_type": "code",
   "execution_count": 19,
   "id": "f30f34a2",
   "metadata": {},
   "outputs": [
    {
     "data": {
      "text/html": [
       "<div>\n",
       "<style scoped>\n",
       "    .dataframe tbody tr th:only-of-type {\n",
       "        vertical-align: middle;\n",
       "    }\n",
       "\n",
       "    .dataframe tbody tr th {\n",
       "        vertical-align: top;\n",
       "    }\n",
       "\n",
       "    .dataframe thead th {\n",
       "        text-align: right;\n",
       "    }\n",
       "</style>\n",
       "<table border=\"1\" class=\"dataframe\">\n",
       "  <thead>\n",
       "    <tr style=\"text-align: right;\">\n",
       "      <th></th>\n",
       "      <th>date</th>\n",
       "      <th>user_type</th>\n",
       "      <th>visits</th>\n",
       "    </tr>\n",
       "    <tr>\n",
       "      <th>date</th>\n",
       "      <th></th>\n",
       "      <th></th>\n",
       "      <th></th>\n",
       "    </tr>\n",
       "  </thead>\n",
       "  <tbody>\n",
       "    <tr>\n",
       "      <th>2020-06-15</th>\n",
       "      <td>2020-06-15</td>\n",
       "      <td>Robots</td>\n",
       "      <td>177.0</td>\n",
       "    </tr>\n",
       "    <tr>\n",
       "      <th>2020-06-16</th>\n",
       "      <td>2020-06-16</td>\n",
       "      <td>Robots</td>\n",
       "      <td>91.0</td>\n",
       "    </tr>\n",
       "    <tr>\n",
       "      <th>2020-06-17</th>\n",
       "      <td>2020-06-17</td>\n",
       "      <td>Robots</td>\n",
       "      <td>138.0</td>\n",
       "    </tr>\n",
       "  </tbody>\n",
       "</table>\n",
       "</div>"
      ],
      "text/plain": [
       "                  date user_type  visits\n",
       "date                                    \n",
       "2020-06-15  2020-06-15    Robots   177.0\n",
       "2020-06-16  2020-06-16    Robots    91.0\n",
       "2020-06-17  2020-06-17    Robots   138.0"
      ]
     },
     "execution_count": 19,
     "metadata": {},
     "output_type": "execute_result"
    }
   ],
   "source": [
    "df_robots"
   ]
  },
  {
   "cell_type": "code",
   "execution_count": 17,
   "id": "99f2b36f",
   "metadata": {},
   "outputs": [],
   "source": [
    "df_people = df_people.set_index(df_people.date, drop=True)\n",
    "df_robots = df_robots.set_index(df_robots.date, drop=True)"
   ]
  },
  {
   "cell_type": "code",
   "execution_count": null,
   "id": "85ed65dc",
   "metadata": {},
   "outputs": [],
   "source": []
  },
  {
   "cell_type": "code",
   "execution_count": 18,
   "id": "6991f993",
   "metadata": {},
   "outputs": [
    {
     "data": {
      "image/png": "[encoded data removed]",
      "text/plain": [
       "<Figure size 864x576 with 1 Axes>"
      ]
     },
     "metadata": {
      "needs_background": "light"
     },
     "output_type": "display_data"
    }
   ],
   "source": [
    "fig, ax = plt.subplots(figsize=(12, 8))\n",
    "ax.plot(df_people['visits'], '-r', label = 'people')\n",
    "ax.plot(df_robots['visits'], '--k', label = 'robots')\n",
    "leg = ax.legend()"
   ]
  },
  {
   "cell_type": "markdown",
   "id": "c6407c78",
   "metadata": {},
   "source": [
    "### STEP 2"
   ]
  },
  {
   "cell_type": "code",
   "execution_count": 20,
   "id": "5049ef0f",
   "metadata": {},
   "outputs": [],
   "source": [
    "df_2 = pd.read_csv('step_2_lesson_7.csv')"
   ]
  },
  {
   "cell_type": "code",
   "execution_count": 21,
   "id": "b57a7a0b",
   "metadata": {},
   "outputs": [
    {
     "data": {
      "text/html": [
       "<div>\n",
       "<style scoped>\n",
       "    .dataframe tbody tr th:only-of-type {\n",
       "        vertical-align: middle;\n",
       "    }\n",
       "\n",
       "    .dataframe tbody tr th {\n",
       "        vertical-align: top;\n",
       "    }\n",
       "\n",
       "    .dataframe thead th {\n",
       "        text-align: right;\n",
       "    }\n",
       "</style>\n",
       "<table border=\"1\" class=\"dataframe\">\n",
       "  <thead>\n",
       "    <tr style=\"text-align: right;\">\n",
       "      <th></th>\n",
       "      <th>date</th>\n",
       "      <th>browser</th>\n",
       "      <th>visits</th>\n",
       "    </tr>\n",
       "  </thead>\n",
       "  <tbody>\n",
       "    <tr>\n",
       "      <th>0</th>\n",
       "      <td>2020-06-15</td>\n",
       "      <td>Google Chrome</td>\n",
       "      <td>354.0</td>\n",
       "    </tr>\n",
       "    <tr>\n",
       "      <th>1</th>\n",
       "      <td>2020-06-15</td>\n",
       "      <td>Firefox</td>\n",
       "      <td>58.0</td>\n",
       "    </tr>\n",
       "    <tr>\n",
       "      <th>2</th>\n",
       "      <td>2020-06-15</td>\n",
       "      <td>Yandex Browser</td>\n",
       "      <td>54.0</td>\n",
       "    </tr>\n",
       "    <tr>\n",
       "      <th>3</th>\n",
       "      <td>2020-06-15</td>\n",
       "      <td>Safari</td>\n",
       "      <td>41.0</td>\n",
       "    </tr>\n",
       "    <tr>\n",
       "      <th>4</th>\n",
       "      <td>2020-06-15</td>\n",
       "      <td>Chrome Mobile</td>\n",
       "      <td>31.0</td>\n",
       "    </tr>\n",
       "  </tbody>\n",
       "</table>\n",
       "</div>"
      ],
      "text/plain": [
       "         date         browser  visits\n",
       "0  2020-06-15   Google Chrome   354.0\n",
       "1  2020-06-15         Firefox    58.0\n",
       "2  2020-06-15  Yandex Browser    54.0\n",
       "3  2020-06-15          Safari    41.0\n",
       "4  2020-06-15   Chrome Mobile    31.0"
      ]
     },
     "execution_count": 21,
     "metadata": {},
     "output_type": "execute_result"
    }
   ],
   "source": [
    "df_2.head()"
   ]
  },
  {
   "cell_type": "code",
   "execution_count": 22,
   "id": "aa515f44",
   "metadata": {},
   "outputs": [
    {
     "data": {
      "text/plain": [
       "(15, 3)"
      ]
     },
     "execution_count": 22,
     "metadata": {},
     "output_type": "execute_result"
    }
   ],
   "source": [
    "df_2.shape"
   ]
  },
  {
   "cell_type": "code",
   "execution_count": 32,
   "id": "43643e8a",
   "metadata": {},
   "outputs": [
    {
     "data": {
      "text/plain": [
       "60"
      ]
     },
     "execution_count": 32,
     "metadata": {},
     "output_type": "execute_result"
    }
   ],
   "source": [
    "int(round(df_2.groupby('browser') \\\n",
    "    .agg({'visits': 'sum'}).loc['Google Chrome'] / df_2.visits.sum() * 100, 0))"
   ]
  },
  {
   "cell_type": "code",
   "execution_count": 29,
   "id": "78b20ef9",
   "metadata": {},
   "outputs": [
    {
     "data": {
      "text/plain": [
       "visits    354.0\n",
       "Name: Google Chrome, dtype: float64"
      ]
     },
     "execution_count": 29,
     "metadata": {},
     "output_type": "execute_result"
    }
   ],
   "source": [
    "df_2.groupby('browser') \\\n",
    "    .agg({'visits': 'sum'}).loc['Google Chrome']"
   ]
  },
  {
   "cell_type": "markdown",
   "id": "d0e2d30d",
   "metadata": {},
   "source": [
    "### STEP 3"
   ]
  },
  {
   "cell_type": "code",
   "execution_count": 34,
   "id": "7ba40843",
   "metadata": {},
   "outputs": [],
   "source": [
    "df_3 = pd.read_csv('step_3_lesson_7.csv')"
   ]
  },
  {
   "cell_type": "code",
   "execution_count": 35,
   "id": "971aa8b5",
   "metadata": {},
   "outputs": [
    {
     "data": {
      "text/html": [
       "<div>\n",
       "<style scoped>\n",
       "    .dataframe tbody tr th:only-of-type {\n",
       "        vertical-align: middle;\n",
       "    }\n",
       "\n",
       "    .dataframe tbody tr th {\n",
       "        vertical-align: top;\n",
       "    }\n",
       "\n",
       "    .dataframe thead th {\n",
       "        text-align: right;\n",
       "    }\n",
       "</style>\n",
       "<table border=\"1\" class=\"dataframe\">\n",
       "  <thead>\n",
       "    <tr style=\"text-align: right;\">\n",
       "      <th></th>\n",
       "      <th>date</th>\n",
       "      <th>browser</th>\n",
       "      <th>user_type</th>\n",
       "      <th>visits</th>\n",
       "    </tr>\n",
       "  </thead>\n",
       "  <tbody>\n",
       "    <tr>\n",
       "      <th>0</th>\n",
       "      <td>2020-06-15</td>\n",
       "      <td>Google Chrome</td>\n",
       "      <td>People</td>\n",
       "      <td>250.0</td>\n",
       "    </tr>\n",
       "    <tr>\n",
       "      <th>1</th>\n",
       "      <td>2020-06-15</td>\n",
       "      <td>Google Chrome</td>\n",
       "      <td>Robots</td>\n",
       "      <td>104.0</td>\n",
       "    </tr>\n",
       "    <tr>\n",
       "      <th>2</th>\n",
       "      <td>2020-06-15</td>\n",
       "      <td>Yandex Browser</td>\n",
       "      <td>People</td>\n",
       "      <td>47.0</td>\n",
       "    </tr>\n",
       "    <tr>\n",
       "      <th>3</th>\n",
       "      <td>2020-06-15</td>\n",
       "      <td>Firefox</td>\n",
       "      <td>Robots</td>\n",
       "      <td>31.0</td>\n",
       "    </tr>\n",
       "    <tr>\n",
       "      <th>4</th>\n",
       "      <td>2020-06-15</td>\n",
       "      <td>Chrome Mobile</td>\n",
       "      <td>People</td>\n",
       "      <td>31.0</td>\n",
       "    </tr>\n",
       "  </tbody>\n",
       "</table>\n",
       "</div>"
      ],
      "text/plain": [
       "         date         browser user_type  visits\n",
       "0  2020-06-15   Google Chrome    People   250.0\n",
       "1  2020-06-15   Google Chrome    Robots   104.0\n",
       "2  2020-06-15  Yandex Browser    People    47.0\n",
       "3  2020-06-15         Firefox    Robots    31.0\n",
       "4  2020-06-15   Chrome Mobile    People    31.0"
      ]
     },
     "execution_count": 35,
     "metadata": {},
     "output_type": "execute_result"
    }
   ],
   "source": [
    "df_3.head()"
   ]
  },
  {
   "cell_type": "code",
   "execution_count": 56,
   "id": "a6f7d849",
   "metadata": {},
   "outputs": [
    {
     "data": {
      "text/html": [
       "<div>\n",
       "<style scoped>\n",
       "    .dataframe tbody tr th:only-of-type {\n",
       "        vertical-align: middle;\n",
       "    }\n",
       "\n",
       "    .dataframe tbody tr th {\n",
       "        vertical-align: top;\n",
       "    }\n",
       "\n",
       "    .dataframe thead th {\n",
       "        text-align: right;\n",
       "    }\n",
       "</style>\n",
       "<table border=\"1\" class=\"dataframe\">\n",
       "  <thead>\n",
       "    <tr style=\"text-align: right;\">\n",
       "      <th></th>\n",
       "      <th></th>\n",
       "      <th>visits</th>\n",
       "    </tr>\n",
       "    <tr>\n",
       "      <th>browser</th>\n",
       "      <th>user_type</th>\n",
       "      <th></th>\n",
       "    </tr>\n",
       "  </thead>\n",
       "  <tbody>\n",
       "    <tr>\n",
       "      <th>Android Browser</th>\n",
       "      <th>People</th>\n",
       "      <td>1.0</td>\n",
       "    </tr>\n",
       "    <tr>\n",
       "      <th>Chrome Mobile</th>\n",
       "      <th>People</th>\n",
       "      <td>31.0</td>\n",
       "    </tr>\n",
       "    <tr>\n",
       "      <th rowspan=\"2\" valign=\"top\">Chromium</th>\n",
       "      <th>People</th>\n",
       "      <td>1.0</td>\n",
       "    </tr>\n",
       "    <tr>\n",
       "      <th>Robots</th>\n",
       "      <td>1.0</td>\n",
       "    </tr>\n",
       "    <tr>\n",
       "      <th>CocCoc</th>\n",
       "      <th>People</th>\n",
       "      <td>1.0</td>\n",
       "    </tr>\n",
       "    <tr>\n",
       "      <th rowspan=\"2\" valign=\"top\">Edge</th>\n",
       "      <th>People</th>\n",
       "      <td>4.0</td>\n",
       "    </tr>\n",
       "    <tr>\n",
       "      <th>Robots</th>\n",
       "      <td>1.0</td>\n",
       "    </tr>\n",
       "    <tr>\n",
       "      <th rowspan=\"2\" valign=\"top\">Firefox</th>\n",
       "      <th>People</th>\n",
       "      <td>27.0</td>\n",
       "    </tr>\n",
       "    <tr>\n",
       "      <th>Robots</th>\n",
       "      <td>31.0</td>\n",
       "    </tr>\n",
       "    <tr>\n",
       "      <th rowspan=\"2\" valign=\"top\">Google Chrome</th>\n",
       "      <th>People</th>\n",
       "      <td>250.0</td>\n",
       "    </tr>\n",
       "    <tr>\n",
       "      <th>Robots</th>\n",
       "      <td>104.0</td>\n",
       "    </tr>\n",
       "    <tr>\n",
       "      <th rowspan=\"2\" valign=\"top\">Mobile Safari</th>\n",
       "      <th>People</th>\n",
       "      <td>15.0</td>\n",
       "    </tr>\n",
       "    <tr>\n",
       "      <th>Robots</th>\n",
       "      <td>1.0</td>\n",
       "    </tr>\n",
       "    <tr>\n",
       "      <th rowspan=\"2\" valign=\"top\">Opera</th>\n",
       "      <th>People</th>\n",
       "      <td>11.0</td>\n",
       "    </tr>\n",
       "    <tr>\n",
       "      <th>Robots</th>\n",
       "      <td>5.0</td>\n",
       "    </tr>\n",
       "    <tr>\n",
       "      <th rowspan=\"2\" valign=\"top\">Safari</th>\n",
       "      <th>People</th>\n",
       "      <td>19.0</td>\n",
       "    </tr>\n",
       "    <tr>\n",
       "      <th>Robots</th>\n",
       "      <td>22.0</td>\n",
       "    </tr>\n",
       "    <tr>\n",
       "      <th rowspan=\"2\" valign=\"top\">Samsung Internet</th>\n",
       "      <th>People</th>\n",
       "      <td>8.0</td>\n",
       "    </tr>\n",
       "    <tr>\n",
       "      <th>Robots</th>\n",
       "      <td>1.0</td>\n",
       "    </tr>\n",
       "    <tr>\n",
       "      <th>UCWEB</th>\n",
       "      <th>Robots</th>\n",
       "      <td>4.0</td>\n",
       "    </tr>\n",
       "    <tr>\n",
       "      <th>Vivaldi</th>\n",
       "      <th>People</th>\n",
       "      <td>1.0</td>\n",
       "    </tr>\n",
       "    <tr>\n",
       "      <th rowspan=\"2\" valign=\"top\">Yandex Browser</th>\n",
       "      <th>People</th>\n",
       "      <td>47.0</td>\n",
       "    </tr>\n",
       "    <tr>\n",
       "      <th>Robots</th>\n",
       "      <td>7.0</td>\n",
       "    </tr>\n",
       "    <tr>\n",
       "      <th>Yandex: mobile app</th>\n",
       "      <th>People</th>\n",
       "      <td>1.0</td>\n",
       "    </tr>\n",
       "  </tbody>\n",
       "</table>\n",
       "</div>"
      ],
      "text/plain": [
       "                              visits\n",
       "browser            user_type        \n",
       "Android Browser    People        1.0\n",
       "Chrome Mobile      People       31.0\n",
       "Chromium           People        1.0\n",
       "                   Robots        1.0\n",
       "CocCoc             People        1.0\n",
       "Edge               People        4.0\n",
       "                   Robots        1.0\n",
       "Firefox            People       27.0\n",
       "                   Robots       31.0\n",
       "Google Chrome      People      250.0\n",
       "                   Robots      104.0\n",
       "Mobile Safari      People       15.0\n",
       "                   Robots        1.0\n",
       "Opera              People       11.0\n",
       "                   Robots        5.0\n",
       "Safari             People       19.0\n",
       "                   Robots       22.0\n",
       "Samsung Internet   People        8.0\n",
       "                   Robots        1.0\n",
       "UCWEB              Robots        4.0\n",
       "Vivaldi            People        1.0\n",
       "Yandex Browser     People       47.0\n",
       "                   Robots        7.0\n",
       "Yandex: mobile app People        1.0"
      ]
     },
     "execution_count": 56,
     "metadata": {},
     "output_type": "execute_result"
    }
   ],
   "source": [
    "df_3.groupby(['browser', 'user_type']).agg({'visits' : 'sum'})\n"
   ]
  },
  {
   "cell_type": "code",
   "execution_count": 63,
   "id": "42e57e52",
   "metadata": {},
   "outputs": [
    {
     "data": {
      "text/html": [
       "<div>\n",
       "<style scoped>\n",
       "    .dataframe tbody tr th:only-of-type {\n",
       "        vertical-align: middle;\n",
       "    }\n",
       "\n",
       "    .dataframe tbody tr th {\n",
       "        vertical-align: top;\n",
       "    }\n",
       "\n",
       "    .dataframe thead th {\n",
       "        text-align: right;\n",
       "    }\n",
       "</style>\n",
       "<table border=\"1\" class=\"dataframe\">\n",
       "  <thead>\n",
       "    <tr style=\"text-align: right;\">\n",
       "      <th></th>\n",
       "      <th></th>\n",
       "      <th>visits</th>\n",
       "    </tr>\n",
       "    <tr>\n",
       "      <th>browser</th>\n",
       "      <th>user_type</th>\n",
       "      <th></th>\n",
       "    </tr>\n",
       "  </thead>\n",
       "  <tbody>\n",
       "    <tr>\n",
       "      <th>UCWEB</th>\n",
       "      <th>Robots</th>\n",
       "      <td>1.000000</td>\n",
       "    </tr>\n",
       "    <tr>\n",
       "      <th>Safari</th>\n",
       "      <th>Robots</th>\n",
       "      <td>0.536585</td>\n",
       "    </tr>\n",
       "    <tr>\n",
       "      <th>Firefox</th>\n",
       "      <th>Robots</th>\n",
       "      <td>0.534483</td>\n",
       "    </tr>\n",
       "    <tr>\n",
       "      <th>Chromium</th>\n",
       "      <th>Robots</th>\n",
       "      <td>0.500000</td>\n",
       "    </tr>\n",
       "    <tr>\n",
       "      <th>Opera</th>\n",
       "      <th>Robots</th>\n",
       "      <td>0.312500</td>\n",
       "    </tr>\n",
       "    <tr>\n",
       "      <th>Google Chrome</th>\n",
       "      <th>Robots</th>\n",
       "      <td>0.293785</td>\n",
       "    </tr>\n",
       "    <tr>\n",
       "      <th>Edge</th>\n",
       "      <th>Robots</th>\n",
       "      <td>0.200000</td>\n",
       "    </tr>\n",
       "    <tr>\n",
       "      <th>Yandex Browser</th>\n",
       "      <th>Robots</th>\n",
       "      <td>0.129630</td>\n",
       "    </tr>\n",
       "    <tr>\n",
       "      <th>Samsung Internet</th>\n",
       "      <th>Robots</th>\n",
       "      <td>0.111111</td>\n",
       "    </tr>\n",
       "    <tr>\n",
       "      <th>Mobile Safari</th>\n",
       "      <th>Robots</th>\n",
       "      <td>0.062500</td>\n",
       "    </tr>\n",
       "  </tbody>\n",
       "</table>\n",
       "</div>"
      ],
      "text/plain": [
       "                              visits\n",
       "browser          user_type          \n",
       "UCWEB            Robots     1.000000\n",
       "Safari           Robots     0.536585\n",
       "Firefox          Robots     0.534483\n",
       "Chromium         Robots     0.500000\n",
       "Opera            Robots     0.312500\n",
       "Google Chrome    Robots     0.293785\n",
       "Edge             Robots     0.200000\n",
       "Yandex Browser   Robots     0.129630\n",
       "Samsung Internet Robots     0.111111\n",
       "Mobile Safari    Robots     0.062500"
      ]
     },
     "execution_count": 63,
     "metadata": {},
     "output_type": "execute_result"
    }
   ],
   "source": [
    "(df_3.groupby(['browser', 'user_type']).sum() / df_3.groupby('browser').sum()).sort_values('visits', ascending=False) \\\n",
    "    .query('user_type == \"Robots\"')\n"
   ]
  },
  {
   "cell_type": "markdown",
   "id": "76b1119b",
   "metadata": {},
   "source": [
    "#### Тоже самое, но с получением информации с Яндекс.Метрики"
   ]
  },
  {
   "cell_type": "code",
   "execution_count": 97,
   "id": "574967bb",
   "metadata": {},
   "outputs": [],
   "source": [
    "url = 'https://api-metrika.yandex.net/stat/v1/data?'\n",
    "\n",
    "visits = \"metrics=ym:s:visits&dimensions=ym:s:date&dimensions=ym:s:browser&dimensions=ym:s:isRobot&id=44147844&filters=ym:s:date=='2021-09-30'\"\n",
    "\n",
    "url = url + visits"
   ]
  },
  {
   "cell_type": "code",
   "execution_count": 105,
   "id": "133d5922",
   "metadata": {},
   "outputs": [],
   "source": [
    "query = requests.get(url)\n",
    "json_data = json.loads(query.text)\n",
    "#json_data['data']\n",
    "visits_data = pd.DataFrame([(\n",
    "                             i['dimensions'][0]['name'],\n",
    "                             i['dimensions'][1]['name'],\n",
    "                             i['dimensions'][2]['name'],\n",
    "                             i['metrics'][0]) for i in json_data['data']],\n",
    "                            columns=['date', 'browser', 'user_type', 'visits'])"
   ]
  },
  {
   "cell_type": "code",
   "execution_count": 107,
   "id": "5af1ed38",
   "metadata": {},
   "outputs": [
    {
     "data": {
      "text/html": [
       "<div>\n",
       "<style scoped>\n",
       "    .dataframe tbody tr th:only-of-type {\n",
       "        vertical-align: middle;\n",
       "    }\n",
       "\n",
       "    .dataframe tbody tr th {\n",
       "        vertical-align: top;\n",
       "    }\n",
       "\n",
       "    .dataframe thead th {\n",
       "        text-align: right;\n",
       "    }\n",
       "</style>\n",
       "<table border=\"1\" class=\"dataframe\">\n",
       "  <thead>\n",
       "    <tr style=\"text-align: right;\">\n",
       "      <th></th>\n",
       "      <th></th>\n",
       "      <th>visits</th>\n",
       "    </tr>\n",
       "    <tr>\n",
       "      <th>browser</th>\n",
       "      <th>user_type</th>\n",
       "      <th></th>\n",
       "    </tr>\n",
       "  </thead>\n",
       "  <tbody>\n",
       "    <tr>\n",
       "      <th>UCWEB</th>\n",
       "      <th>Robots</th>\n",
       "      <td>1.000000</td>\n",
       "    </tr>\n",
       "    <tr>\n",
       "      <th>Yandex Browser</th>\n",
       "      <th>Robots</th>\n",
       "      <td>0.222222</td>\n",
       "    </tr>\n",
       "    <tr>\n",
       "      <th>Mobile Safari</th>\n",
       "      <th>Robots</th>\n",
       "      <td>0.125000</td>\n",
       "    </tr>\n",
       "    <tr>\n",
       "      <th>Edge</th>\n",
       "      <th>Robots</th>\n",
       "      <td>0.105263</td>\n",
       "    </tr>\n",
       "    <tr>\n",
       "      <th>Opera</th>\n",
       "      <th>Robots</th>\n",
       "      <td>0.062500</td>\n",
       "    </tr>\n",
       "    <tr>\n",
       "      <th>Chrome Mobile</th>\n",
       "      <th>Robots</th>\n",
       "      <td>0.048387</td>\n",
       "    </tr>\n",
       "    <tr>\n",
       "      <th>Google Chrome</th>\n",
       "      <th>Robots</th>\n",
       "      <td>0.039286</td>\n",
       "    </tr>\n",
       "    <tr>\n",
       "      <th>Firefox</th>\n",
       "      <th>Robots</th>\n",
       "      <td>0.034483</td>\n",
       "    </tr>\n",
       "  </tbody>\n",
       "</table>\n",
       "</div>"
      ],
      "text/plain": [
       "                            visits\n",
       "browser        user_type          \n",
       "UCWEB          Robots     1.000000\n",
       "Yandex Browser Robots     0.222222\n",
       "Mobile Safari  Robots     0.125000\n",
       "Edge           Robots     0.105263\n",
       "Opera          Robots     0.062500\n",
       "Chrome Mobile  Robots     0.048387\n",
       "Google Chrome  Robots     0.039286\n",
       "Firefox        Robots     0.034483"
      ]
     },
     "execution_count": 107,
     "metadata": {},
     "output_type": "execute_result"
    }
   ],
   "source": [
    "(visits_data.groupby(['browser', 'user_type']).sum() / visits_data.groupby('browser').sum()).sort_values('visits', ascending=False) \\\n",
    "    .query('user_type == \"Robots\"')\n"
   ]
  },
  {
   "cell_type": "markdown",
   "id": "9340f0f8",
   "metadata": {},
   "source": [
    "### STEP 4\n"
   ]
  },
  {
   "cell_type": "code",
   "execution_count": 123,
   "id": "589ba386",
   "metadata": {},
   "outputs": [],
   "source": [
    "url = 'https://api-metrika.yandex.net/stat/v1/data?'\n",
    "\n",
    "visits = \"metrics=ym:s:visits&dimensions=ym:s:date&dimensions=ym:s:browser&dimensions=ym:s:isRobot&id=44147844&filters=ym:s:date=='2021-10-01'\"\n",
    "\n",
    "url = url + visits"
   ]
  },
  {
   "cell_type": "code",
   "execution_count": 124,
   "id": "986d39fd",
   "metadata": {},
   "outputs": [],
   "source": [
    "query = requests.get(url)\n",
    "json_data = json.loads(query.text)\n",
    "#json_data['data']\n",
    "visits_data = pd.DataFrame([(\n",
    "                             i['dimensions'][0]['name'],\n",
    "                             i['dimensions'][1]['name'],\n",
    "                             i['dimensions'][2]['name'],\n",
    "                             i['metrics'][0]) for i in json_data['data']],\n",
    "                            columns=['date', 'browser', 'user_type', 'visits'])"
   ]
  },
  {
   "cell_type": "code",
   "execution_count": null,
   "id": "3827d52d",
   "metadata": {},
   "outputs": [],
   "source": []
  },
  {
   "cell_type": "code",
   "execution_count": null,
   "id": "6bc2cff1",
   "metadata": {},
   "outputs": [],
   "source": []
  },
  {
   "cell_type": "code",
   "execution_count": 125,
   "id": "39d26307",
   "metadata": {},
   "outputs": [
    {
     "data": {
      "text/html": [
       "<div>\n",
       "<style scoped>\n",
       "    .dataframe tbody tr th:only-of-type {\n",
       "        vertical-align: middle;\n",
       "    }\n",
       "\n",
       "    .dataframe tbody tr th {\n",
       "        vertical-align: top;\n",
       "    }\n",
       "\n",
       "    .dataframe thead th {\n",
       "        text-align: right;\n",
       "    }\n",
       "</style>\n",
       "<table border=\"1\" class=\"dataframe\">\n",
       "  <thead>\n",
       "    <tr style=\"text-align: right;\">\n",
       "      <th></th>\n",
       "      <th>date</th>\n",
       "      <th>browser</th>\n",
       "      <th>user_type</th>\n",
       "      <th>visits</th>\n",
       "    </tr>\n",
       "  </thead>\n",
       "  <tbody>\n",
       "    <tr>\n",
       "      <th>0</th>\n",
       "      <td>2021-10-01</td>\n",
       "      <td>Google Chrome</td>\n",
       "      <td>People</td>\n",
       "      <td>258.0</td>\n",
       "    </tr>\n",
       "    <tr>\n",
       "      <th>1</th>\n",
       "      <td>2021-10-01</td>\n",
       "      <td>Chrome Mobile</td>\n",
       "      <td>People</td>\n",
       "      <td>56.0</td>\n",
       "    </tr>\n",
       "    <tr>\n",
       "      <th>2</th>\n",
       "      <td>2021-10-01</td>\n",
       "      <td>Firefox</td>\n",
       "      <td>People</td>\n",
       "      <td>38.0</td>\n",
       "    </tr>\n",
       "    <tr>\n",
       "      <th>3</th>\n",
       "      <td>2021-10-01</td>\n",
       "      <td>Yandex Browser</td>\n",
       "      <td>People</td>\n",
       "      <td>27.0</td>\n",
       "    </tr>\n",
       "    <tr>\n",
       "      <th>4</th>\n",
       "      <td>2021-10-01</td>\n",
       "      <td>Safari</td>\n",
       "      <td>People</td>\n",
       "      <td>20.0</td>\n",
       "    </tr>\n",
       "  </tbody>\n",
       "</table>\n",
       "</div>"
      ],
      "text/plain": [
       "         date         browser user_type  visits\n",
       "0  2021-10-01   Google Chrome    People   258.0\n",
       "1  2021-10-01   Chrome Mobile    People    56.0\n",
       "2  2021-10-01         Firefox    People    38.0\n",
       "3  2021-10-01  Yandex Browser    People    27.0\n",
       "4  2021-10-01          Safari    People    20.0"
      ]
     },
     "execution_count": 125,
     "metadata": {},
     "output_type": "execute_result"
    }
   ],
   "source": [
    "visits_data.head()"
   ]
  },
  {
   "cell_type": "code",
   "execution_count": 126,
   "id": "4edd481a",
   "metadata": {},
   "outputs": [
    {
     "data": {
      "text/html": [
       "<div>\n",
       "<style scoped>\n",
       "    .dataframe tbody tr th:only-of-type {\n",
       "        vertical-align: middle;\n",
       "    }\n",
       "\n",
       "    .dataframe tbody tr th {\n",
       "        vertical-align: top;\n",
       "    }\n",
       "\n",
       "    .dataframe thead th {\n",
       "        text-align: right;\n",
       "    }\n",
       "</style>\n",
       "<table border=\"1\" class=\"dataframe\">\n",
       "  <thead>\n",
       "    <tr style=\"text-align: right;\">\n",
       "      <th></th>\n",
       "      <th></th>\n",
       "      <th>visits</th>\n",
       "    </tr>\n",
       "    <tr>\n",
       "      <th>browser</th>\n",
       "      <th>user_type</th>\n",
       "      <th></th>\n",
       "    </tr>\n",
       "  </thead>\n",
       "  <tbody>\n",
       "    <tr>\n",
       "      <th rowspan=\"2\" valign=\"top\">Safari</th>\n",
       "      <th>People</th>\n",
       "      <td>4.2</td>\n",
       "    </tr>\n",
       "    <tr>\n",
       "      <th>Robots</th>\n",
       "      <td>0.2</td>\n",
       "    </tr>\n",
       "  </tbody>\n",
       "</table>\n",
       "</div>"
      ],
      "text/plain": [
       "                   visits\n",
       "browser user_type        \n",
       "Safari  People        4.2\n",
       "        Robots        0.2"
      ]
     },
     "execution_count": 126,
     "metadata": {},
     "output_type": "execute_result"
    }
   ],
   "source": [
    "round((visits_data.groupby(['browser', 'user_type']).sum() / visits_data.visits.sum()).sort_values('visits', ascending=False) \\\n",
    "    .query('browser == \"Safari\"') * 100, 1)\n"
   ]
  },
  {
   "cell_type": "code",
   "execution_count": 128,
   "id": "690bda37",
   "metadata": {},
   "outputs": [],
   "source": [
    "df_4 = pd.read_csv('step_3_lesson_7.csv')"
   ]
  },
  {
   "cell_type": "code",
   "execution_count": 129,
   "id": "edc05cd8",
   "metadata": {},
   "outputs": [
    {
     "data": {
      "text/html": [
       "<div>\n",
       "<style scoped>\n",
       "    .dataframe tbody tr th:only-of-type {\n",
       "        vertical-align: middle;\n",
       "    }\n",
       "\n",
       "    .dataframe tbody tr th {\n",
       "        vertical-align: top;\n",
       "    }\n",
       "\n",
       "    .dataframe thead th {\n",
       "        text-align: right;\n",
       "    }\n",
       "</style>\n",
       "<table border=\"1\" class=\"dataframe\">\n",
       "  <thead>\n",
       "    <tr style=\"text-align: right;\">\n",
       "      <th></th>\n",
       "      <th>date</th>\n",
       "      <th>browser</th>\n",
       "      <th>user_type</th>\n",
       "      <th>visits</th>\n",
       "    </tr>\n",
       "  </thead>\n",
       "  <tbody>\n",
       "    <tr>\n",
       "      <th>0</th>\n",
       "      <td>2020-06-15</td>\n",
       "      <td>Google Chrome</td>\n",
       "      <td>People</td>\n",
       "      <td>250.0</td>\n",
       "    </tr>\n",
       "    <tr>\n",
       "      <th>1</th>\n",
       "      <td>2020-06-15</td>\n",
       "      <td>Google Chrome</td>\n",
       "      <td>Robots</td>\n",
       "      <td>104.0</td>\n",
       "    </tr>\n",
       "    <tr>\n",
       "      <th>2</th>\n",
       "      <td>2020-06-15</td>\n",
       "      <td>Yandex Browser</td>\n",
       "      <td>People</td>\n",
       "      <td>47.0</td>\n",
       "    </tr>\n",
       "    <tr>\n",
       "      <th>3</th>\n",
       "      <td>2020-06-15</td>\n",
       "      <td>Firefox</td>\n",
       "      <td>Robots</td>\n",
       "      <td>31.0</td>\n",
       "    </tr>\n",
       "    <tr>\n",
       "      <th>4</th>\n",
       "      <td>2020-06-15</td>\n",
       "      <td>Chrome Mobile</td>\n",
       "      <td>People</td>\n",
       "      <td>31.0</td>\n",
       "    </tr>\n",
       "  </tbody>\n",
       "</table>\n",
       "</div>"
      ],
      "text/plain": [
       "         date         browser user_type  visits\n",
       "0  2020-06-15   Google Chrome    People   250.0\n",
       "1  2020-06-15   Google Chrome    Robots   104.0\n",
       "2  2020-06-15  Yandex Browser    People    47.0\n",
       "3  2020-06-15         Firefox    Robots    31.0\n",
       "4  2020-06-15   Chrome Mobile    People    31.0"
      ]
     },
     "execution_count": 129,
     "metadata": {},
     "output_type": "execute_result"
    }
   ],
   "source": [
    "df_4.head()"
   ]
  },
  {
   "cell_type": "code",
   "execution_count": 137,
   "id": "162be3e2",
   "metadata": {},
   "outputs": [],
   "source": [
    "df = round((df_4.groupby(['browser', 'user_type']).sum() / df_4.visits.sum()).sort_values('visits', ascending=False) \\\n",
    "    .query('browser == \"Safari\"') * 100, 1)"
   ]
  },
  {
   "cell_type": "code",
   "execution_count": 141,
   "id": "54e13a2d",
   "metadata": {},
   "outputs": [],
   "source": [
    "df = df.reset_index()"
   ]
  },
  {
   "cell_type": "code",
   "execution_count": null,
   "id": "9711872e",
   "metadata": {},
   "outputs": [],
   "source": []
  },
  {
   "cell_type": "markdown",
   "id": "360eb3b5",
   "metadata": {},
   "source": [
    "### STEP 5 VK API"
   ]
  },
  {
   "cell_type": "markdown",
   "id": "773d9b9e",
   "metadata": {},
   "source": [
    "Токен: baafd3c5f6f50cccc8d10a9af13017653f92a5cbb2b3a5ca16119ec513997551fadc144b621d0c2922000"
   ]
  },
  {
   "cell_type": "markdown",
   "id": "fab2d8be",
   "metadata": {},
   "source": [
    "\"client_email\": \"tester@angelic-shift-327815.iam.gserviceaccount.com\""
   ]
  },
  {
   "cell_type": "code",
   "execution_count": 204,
   "id": "a801c3c8",
   "metadata": {},
   "outputs": [],
   "source": [
    "scope = ['https://spreadsheets.google.com/feeds',\n",
    "         'https://www.googleapis.com/auth/drive']\n",
    "\n",
    "my_mail = \"andru.eliseev46@gmail.com\"\n",
    "path_to_credentials = 'angelic-shift-327815-c71f6eeffeb0.json'\n",
    "\n",
    "credentials = ServiceAccountCredentials.from_json_keyfile_name(path_to_credentials, scope)\n",
    "gs = gspread.authorize(credentials)"
   ]
  },
  {
   "cell_type": "code",
   "execution_count": 205,
   "id": "9a7f168c",
   "metadata": {},
   "outputs": [],
   "source": [
    "table_name = 'Test1'\n",
    "\n",
    "sheet = gs.create(table_name)\n",
    "\n",
    "\n",
    "sheet.share(my_mail, perm_type='user', role='writer')"
   ]
  },
  {
   "cell_type": "code",
   "execution_count": 198,
   "id": "39f816a3",
   "metadata": {},
   "outputs": [],
   "source": [
    "table_name = 'test'\n",
    "spreadsheet_key = '1jzUT5RqIpAMykZdqEFi1FqgkltlIM4CNExPtjw-NcLg'"
   ]
  },
  {
   "cell_type": "code",
   "execution_count": 195,
   "id": "cecc1e3d",
   "metadata": {},
   "outputs": [
    {
     "data": {
      "text/plain": [
       "<Spreadsheet 'Test1' id:1xXKLcV59UzJxiU6K8FAT2Xo3szqU6U4JaKWJtc5l3w0>"
      ]
     },
     "execution_count": 195,
     "metadata": {},
     "output_type": "execute_result"
    }
   ],
   "source": [
    "sheet"
   ]
  },
  {
   "cell_type": "code",
   "execution_count": 203,
   "id": "81e72749",
   "metadata": {},
   "outputs": [
    {
     "data": {
      "text/plain": [
       "'1do2ktTCDswAd206vdkDLhT-CEVargm0AuKZZyywhm9M'"
      ]
     },
     "execution_count": 203,
     "metadata": {},
     "output_type": "execute_result"
    }
   ],
   "source": [
    "gs.list_spreadsheet_files()[0]['id']"
   ]
  },
  {
   "cell_type": "code",
   "execution_count": 206,
   "id": "abcefdb0",
   "metadata": {},
   "outputs": [
    {
     "data": {
      "text/plain": [
       "<Worksheet 'test' id:274645954>"
      ]
     },
     "execution_count": 206,
     "metadata": {},
     "output_type": "execute_result"
    }
   ],
   "source": [
    "sheet = 'test'\n",
    "d2g.upload(df, table_name, sheet, credentials=credentials, row_names=True)"
   ]
  },
  {
   "cell_type": "code",
   "execution_count": 207,
   "id": "40deba5a",
   "metadata": {},
   "outputs": [],
   "source": [
    "spreadsheet_url = 'https://docs.google.com/spreadsheets/d/' + gs.list_spreadsheet_files()[0]['id']"
   ]
  },
  {
   "cell_type": "code",
   "execution_count": 208,
   "id": "04d5c5f4",
   "metadata": {},
   "outputs": [
    {
     "data": {
      "text/plain": [
       "'https://docs.google.com/spreadsheets/d/1eG2ILgL3KXFbdPUhbktn1PI1s7LQtSj8d8wDuqYSgmQ'"
      ]
     },
     "execution_count": 208,
     "metadata": {},
     "output_type": "execute_result"
    }
   ],
   "source": [
    "spreadsheet_url"
   ]
  },
  {
   "cell_type": "code",
   "execution_count": 209,
   "id": "609e6932",
   "metadata": {},
   "outputs": [],
   "source": [
    "#Отправляем в ВК"
   ]
  },
  {
   "cell_type": "code",
   "execution_count": 288,
   "id": "75606b9a",
   "metadata": {},
   "outputs": [],
   "source": [
    "app_token = '975bf61b985a0e8ddc465fc7b9d1ee715d45d72bb7351ef8da3924a21a4141424bad82ad085264c126ccf'"
   ]
  },
  {
   "cell_type": "code",
   "execution_count": 289,
   "id": "39418f10",
   "metadata": {},
   "outputs": [],
   "source": [
    "chat_id = 155"
   ]
  },
  {
   "cell_type": "code",
   "execution_count": 290,
   "id": "76e88d96",
   "metadata": {},
   "outputs": [],
   "source": [
    "my_id = 198558881\n",
    "peer_id = 138\n",
    "user_id = 147904785"
   ]
  },
  {
   "cell_type": "code",
   "execution_count": 291,
   "id": "3a9e088d",
   "metadata": {},
   "outputs": [],
   "source": [
    "vk_session = vk_api.VkApi(token=app_token)"
   ]
  },
  {
   "cell_type": "code",
   "execution_count": 292,
   "id": "9a25d4a2",
   "metadata": {},
   "outputs": [
    {
     "data": {
      "text/plain": [
       "<vk_api.vk_api.VkApi at 0x4321be0580>"
      ]
     },
     "execution_count": 292,
     "metadata": {},
     "output_type": "execute_result"
    }
   ],
   "source": [
    "vk_session"
   ]
  },
  {
   "cell_type": "code",
   "execution_count": 293,
   "id": "de698d9a",
   "metadata": {},
   "outputs": [],
   "source": [
    "vk = vk_session.get_api()"
   ]
  },
  {
   "cell_type": "code",
   "execution_count": 294,
   "id": "565f7884",
   "metadata": {},
   "outputs": [
    {
     "data": {
      "text/plain": [
       "<vk_api.vk_api.VkApiMethod at 0x431ecfe760>"
      ]
     },
     "execution_count": 294,
     "metadata": {},
     "output_type": "execute_result"
    }
   ],
   "source": [
    "vk"
   ]
  },
  {
   "cell_type": "code",
   "execution_count": 302,
   "id": "e4ca6cbe",
   "metadata": {},
   "outputs": [
    {
     "data": {
      "text/plain": [
       "5"
      ]
     },
     "execution_count": 302,
     "metadata": {},
     "output_type": "execute_result"
    }
   ],
   "source": [
    "vk.messages.send(\n",
    "    chat_id=1,\n",
    "    random_id=100,\n",
    "    message='151')"
   ]
  },
  {
   "cell_type": "code",
   "execution_count": null,
   "id": "5211cf6c",
   "metadata": {},
   "outputs": [],
   "source": []
  },
  {
   "cell_type": "code",
   "execution_count": null,
   "id": "0db5051e",
   "metadata": {},
   "outputs": [],
   "source": []
  }
 ],
 "metadata": {
  "kernelspec": {
   "display_name": "Python 3",
   "language": "python",
   "name": "python3"
  },
  "language_info": {
   "codemirror_mode": {
    "name": "ipython",
    "version": 3
   },
   "file_extension": ".py",
   "mimetype": "text/x-python",
   "name": "python",
   "nbconvert_exporter": "python",
   "pygments_lexer": "ipython3",
   "version": "3.8.10"
  }
 },
 "nbformat": 4,
 "nbformat_minor": 5
}
