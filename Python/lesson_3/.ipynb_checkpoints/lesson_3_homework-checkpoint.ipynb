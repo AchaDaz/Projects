{
 "cells": [
  {
   "cell_type": "code",
   "execution_count": 1,
   "id": "8df61c2f",
   "metadata": {},
   "outputs": [],
   "source": [
    "import pandas as pd"
   ]
  },
  {
   "cell_type": "code",
   "execution_count": 2,
   "id": "70db0d58",
   "metadata": {},
   "outputs": [],
   "source": [
    "names = 'Аркадий Манучарян, Юрий Долгорукий'"
   ]
  },
  {
   "cell_type": "code",
   "execution_count": 12,
   "id": "ae6213b5",
   "metadata": {},
   "outputs": [
    {
     "name": "stdout",
     "output_type": "stream",
     "text": [
      "<map object at 0x00000064984AC1C0>\n"
     ]
    }
   ],
   "source": [
    "names_list = names.split(',')\n",
    "names_list = map(str.lstrip, names_list)"
   ]
  },
  {
   "cell_type": "code",
   "execution_count": 6,
   "id": "bd6a36a9",
   "metadata": {},
   "outputs": [],
   "source": [
    "def read_n_agg(path):\n",
    "    df = pd.read_csv(path, sep=';')\n",
    "    \n",
    "    "
   ]
  },
  {
   "cell_type": "code",
   "execution_count": null,
   "id": "6e0c133c",
   "metadata": {},
   "outputs": [],
   "source": []
  }
 ],
 "metadata": {
  "kernelspec": {
   "display_name": "Python 3",
   "language": "python",
   "name": "python3"
  },
  "language_info": {
   "codemirror_mode": {
    "name": "ipython",
    "version": 3
   },
   "file_extension": ".py",
   "mimetype": "text/x-python",
   "name": "python",
   "nbconvert_exporter": "python",
   "pygments_lexer": "ipython3",
   "version": "3.8.10"
  }
 },
 "nbformat": 4,
 "nbformat_minor": 5
}
