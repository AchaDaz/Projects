{
 "cells": [
  {
   "cell_type": "code",
   "execution_count": 1,
   "id": "0f3a753b",
   "metadata": {},
   "outputs": [],
   "source": [
    "import numpy as np\n",
    "import pandas as pd\n",
    "from scipy import stats \n",
    "import matplotlib.pyplot as plt\n",
    "\n",
    "from tqdm.auto import tqdm"
   ]
  },
  {
   "cell_type": "code",
   "execution_count": 4,
   "id": "478fd98e",
   "metadata": {},
   "outputs": [],
   "source": [
    "df_mobile_app = pd.read_csv('hw_aa.csv', sep=';')"
   ]
  },
  {
   "cell_type": "code",
   "execution_count": 6,
   "id": "73ea0016",
   "metadata": {},
   "outputs": [],
   "source": [
    "del df_mobile_app['Unnamed: 0']"
   ]
  },
  {
   "cell_type": "code",
   "execution_count": 7,
   "id": "6cdc6077",
   "metadata": {},
   "outputs": [
    {
     "data": {
      "text/html": [
       "<div>\n",
       "<style scoped>\n",
       "    .dataframe tbody tr th:only-of-type {\n",
       "        vertical-align: middle;\n",
       "    }\n",
       "\n",
       "    .dataframe tbody tr th {\n",
       "        vertical-align: top;\n",
       "    }\n",
       "\n",
       "    .dataframe thead th {\n",
       "        text-align: right;\n",
       "    }\n",
       "</style>\n",
       "<table border=\"1\" class=\"dataframe\">\n",
       "  <thead>\n",
       "    <tr style=\"text-align: right;\">\n",
       "      <th></th>\n",
       "      <th>uid</th>\n",
       "      <th>experimentVariant</th>\n",
       "      <th>version</th>\n",
       "      <th>purchase</th>\n",
       "    </tr>\n",
       "  </thead>\n",
       "  <tbody>\n",
       "    <tr>\n",
       "      <th>0</th>\n",
       "      <td>c4ca4238a0b923820dcc509a6f75849b</td>\n",
       "      <td>1</td>\n",
       "      <td>v2.8.0</td>\n",
       "      <td>0</td>\n",
       "    </tr>\n",
       "    <tr>\n",
       "      <th>1</th>\n",
       "      <td>c81e728d9d4c2f636f067f89cc14862c</td>\n",
       "      <td>0</td>\n",
       "      <td>v2.9.0</td>\n",
       "      <td>0</td>\n",
       "    </tr>\n",
       "    <tr>\n",
       "      <th>2</th>\n",
       "      <td>eccbc87e4b5ce2fe28308fd9f2a7baf3</td>\n",
       "      <td>1</td>\n",
       "      <td>v2.9.0</td>\n",
       "      <td>0</td>\n",
       "    </tr>\n",
       "    <tr>\n",
       "      <th>3</th>\n",
       "      <td>a87ff679a2f3e71d9181a67b7542122c</td>\n",
       "      <td>1</td>\n",
       "      <td>v2.8.0</td>\n",
       "      <td>0</td>\n",
       "    </tr>\n",
       "    <tr>\n",
       "      <th>4</th>\n",
       "      <td>e4da3b7fbbce2345d7772b0674a318d5</td>\n",
       "      <td>1</td>\n",
       "      <td>v2.8.0</td>\n",
       "      <td>0</td>\n",
       "    </tr>\n",
       "  </tbody>\n",
       "</table>\n",
       "</div>"
      ],
      "text/plain": [
       "                                uid  experimentVariant version  purchase\n",
       "0  c4ca4238a0b923820dcc509a6f75849b                  1  v2.8.0         0\n",
       "1  c81e728d9d4c2f636f067f89cc14862c                  0  v2.9.0         0\n",
       "2  eccbc87e4b5ce2fe28308fd9f2a7baf3                  1  v2.9.0         0\n",
       "3  a87ff679a2f3e71d9181a67b7542122c                  1  v2.8.0         0\n",
       "4  e4da3b7fbbce2345d7772b0674a318d5                  1  v2.8.0         0"
      ]
     },
     "execution_count": 7,
     "metadata": {},
     "output_type": "execute_result"
    }
   ],
   "source": [
    "df_mobile_app.head()"
   ]
  },
  {
   "cell_type": "code",
   "execution_count": null,
   "id": "fbc513c1",
   "metadata": {},
   "outputs": [],
   "source": []
  },
  {
   "cell_type": "code",
   "execution_count": 9,
   "id": "59e85100",
   "metadata": {},
   "outputs": [
    {
     "data": {
      "text/plain": [
       "(127018, 4)"
      ]
     },
     "execution_count": 9,
     "metadata": {},
     "output_type": "execute_result"
    }
   ],
   "source": [
    "df_mobile_app.shape"
   ]
  },
  {
   "cell_type": "code",
   "execution_count": 10,
   "id": "6be0bb86",
   "metadata": {},
   "outputs": [],
   "source": [
    "df_mobile_app_0 = df_mobile_app.query('experimentVariant == 0')\n",
    "df_mobile_app_1 = df_mobile_app.query('experimentVariant == 1')"
   ]
  },
  {
   "cell_type": "code",
   "execution_count": 12,
   "id": "09b36020",
   "metadata": {},
   "outputs": [
    {
     "data": {
      "application/vnd.jupyter.widget-view+json": {
       "model_id": "7072c97f263c44f79c79e5833888cd2a",
       "version_major": 2,
       "version_minor": 0
      },
      "text/plain": [
       "  0%|          | 0/1000 [00:00<?, ?it/s]"
      ]
     },
     "metadata": {},
     "output_type": "display_data"
    },
    {
     "data": {
      "image/png": "[encoded data removed]",
      "text/plain": [
       "<Figure size 432x288 with 1 Axes>"
      ]
     },
     "metadata": {
      "needs_background": "light"
     },
     "output_type": "display_data"
    }
   ],
   "source": [
    "#А/А тест\n",
    "simulations = 1000\n",
    "n_s = 1000\n",
    "res = []\n",
    "for i in tqdm(range(simulations)):\n",
    "    group_0 = df_mobile_app_0.purchase.sample(n_s, replace=False).values\n",
    "    group_1 = df_mobile_app_1.purchase.sample(n_s, replace=False).values\n",
    "    res.append(stats.ttest_ind(group_0, group_1, equal_var=False)[1])\n",
    "    \n",
    "\n",
    "plt.hist(res, bins = 50)\n",
    "plt.style.use('ggplot')\n",
    "plt.xlabel('pvalues')\n",
    "plt.ylabel('frequency')\n",
    "plt.title(\"Histogram of ttest A/A simulations of mobile app\")\n",
    "plt.show()    \n"
   ]
  },
  {
   "cell_type": "code",
   "execution_count": 13,
   "id": "76ce52dd",
   "metadata": {},
   "outputs": [
    {
     "data": {
      "text/plain": [
       "0.946"
      ]
     },
     "execution_count": 13,
     "metadata": {},
     "output_type": "execute_result"
    }
   ],
   "source": [
    "sum(np.array(res) <0.05) / simulations"
   ]
  },
  {
   "cell_type": "markdown",
   "id": "f1d35a86",
   "metadata": {},
   "source": [
    "Таким образом, учитывая, что FPR >> 0.05, сплит-систему можно считать поломанной. Попробуем найти причины."
   ]
  },
  {
   "cell_type": "code",
   "execution_count": 21,
   "id": "c8d91301",
   "metadata": {
    "scrolled": true
   },
   "outputs": [
    {
     "data": {
      "text/plain": [
       "array(['v2.8.0', 'v2.9.0', 'v3.7.4.0', 'v3.8.0.0'], dtype=object)"
      ]
     },
     "execution_count": 21,
     "metadata": {},
     "output_type": "execute_result"
    }
   ],
   "source": [
    "df_mobile_app.version.unique()"
   ]
  },
  {
   "cell_type": "code",
   "execution_count": 29,
   "id": "dcc81617",
   "metadata": {
    "scrolled": false
   },
   "outputs": [
    {
     "name": "stdout",
     "output_type": "stream",
     "text": [
      "v2.8.0\n",
      "0.0009931448780369644\n",
      "-------------------\n",
      "v2.9.0\n",
      "0.0746581662612197\n",
      "-------------------\n",
      "v3.7.4.0\n",
      "0.05994291151284491\n",
      "-------------------\n",
      "v3.8.0.0\n",
      "0.05760449596066034\n",
      "-------------------\n"
     ]
    }
   ],
   "source": [
    "#Посчитаем конверсию для каждой версии\n",
    "#Для 0 группы\n",
    "for version in df_mobile_app.version.unique():\n",
    "    print(version)\n",
    "    print(df_mobile_app_0.query('version == @version').purchase.sum()/df_mobile_app_0.query('version == @version').shape[0])\n",
    "    print('-------------------')"
   ]
  },
  {
   "cell_type": "code",
   "execution_count": 31,
   "id": "751588cb",
   "metadata": {
    "scrolled": true
   },
   "outputs": [
    {
     "name": "stdout",
     "output_type": "stream",
     "text": [
      "v2.8.0\n",
      "0.04560550635348479\n",
      "-------------------\n",
      "v2.9.0\n",
      "0.0713039142358514\n",
      "-------------------\n",
      "v3.7.4.0\n",
      "0.06301824212271974\n",
      "-------------------\n",
      "v3.8.0.0\n",
      "0.06284779050736497\n",
      "-------------------\n"
     ]
    }
   ],
   "source": [
    "#Для 1 группы\n",
    "for version in df_mobile_app.version.unique():\n",
    "    print(version)\n",
    "    print(df_mobile_app_1.query('version == @version').purchase.sum()/df_mobile_app_1.query('version == @version').shape[0])\n",
    "    print('-------------------')"
   ]
  },
  {
   "cell_type": "markdown",
   "id": "ceb3c83f",
   "metadata": {},
   "source": [
    "Таким образом, конверсия для 0 группы для версии 2.8.0 гораздо меньше всех остальных. Посмотрим на p-value."
   ]
  },
  {
   "cell_type": "code",
   "execution_count": 26,
   "id": "30c5d60c",
   "metadata": {},
   "outputs": [
    {
     "data": {
      "application/vnd.jupyter.widget-view+json": {
       "model_id": "db4e73f1f28049e387fc74f71dfca428",
       "version_major": 2,
       "version_minor": 0
      },
      "text/plain": [
       "  0%|          | 0/1000 [00:00<?, ?it/s]"
      ]
     },
     "metadata": {},
     "output_type": "display_data"
    },
    {
     "data": {
      "image/png": "[encoded data removed]",
      "text/plain": [
       "<Figure size 432x288 with 1 Axes>"
      ]
     },
     "metadata": {},
     "output_type": "display_data"
    },
    {
     "name": "stdout",
     "output_type": "stream",
     "text": [
      "v2.8.0\n",
      "FPR = 1.0\n"
     ]
    },
    {
     "data": {
      "application/vnd.jupyter.widget-view+json": {
       "model_id": "66cd40cdb1a64be09ab85bbe30180e45",
       "version_major": 2,
       "version_minor": 0
      },
      "text/plain": [
       "  0%|          | 0/1000 [00:00<?, ?it/s]"
      ]
     },
     "metadata": {},
     "output_type": "display_data"
    },
    {
     "data": {
      "image/png": "[encoded data removed]",
      "text/plain": [
       "<Figure size 432x288 with 1 Axes>"
      ]
     },
     "metadata": {},
     "output_type": "display_data"
    },
    {
     "name": "stdout",
     "output_type": "stream",
     "text": [
      "v2.9.0\n",
      "FPR = 0.046\n"
     ]
    },
    {
     "data": {
      "application/vnd.jupyter.widget-view+json": {
       "model_id": "a6919b6f6cd14c409b4be3f3e09d9fc0",
       "version_major": 2,
       "version_minor": 0
      },
      "text/plain": [
       "  0%|          | 0/1000 [00:00<?, ?it/s]"
      ]
     },
     "metadata": {},
     "output_type": "display_data"
    },
    {
     "data": {
      "image/png": "[encoded data removed]",
      "text/plain": [
       "<Figure size 432x288 with 1 Axes>"
      ]
     },
     "metadata": {},
     "output_type": "display_data"
    },
    {
     "name": "stdout",
     "output_type": "stream",
     "text": [
      "v3.7.4.0\n",
      "FPR = 0.03\n"
     ]
    },
    {
     "data": {
      "application/vnd.jupyter.widget-view+json": {
       "model_id": "900364624f3b4c42aab43e458c195fa3",
       "version_major": 2,
       "version_minor": 0
      },
      "text/plain": [
       "  0%|          | 0/1000 [00:00<?, ?it/s]"
      ]
     },
     "metadata": {},
     "output_type": "display_data"
    },
    {
     "data": {
      "image/png": "[encoded data removed]",
      "text/plain": [
       "<Figure size 432x288 with 1 Axes>"
      ]
     },
     "metadata": {},
     "output_type": "display_data"
    },
    {
     "name": "stdout",
     "output_type": "stream",
     "text": [
      "v3.8.0.0\n",
      "FPR = 0.049\n"
     ]
    }
   ],
   "source": [
    "simulations = 1000\n",
    "n_s = 1000\n",
    "for version in df_mobile_app.version.unique():\n",
    "    df_mobile_app_0_perm = df_mobile_app_0.query('version == @version')\n",
    "    df_mobile_app_1_perm = df_mobile_app_1.query('version == @version')\n",
    "    res = []\n",
    "    for i in tqdm(range(simulations)):\n",
    "        group_0 = df_mobile_app_0_perm.purchase.sample(n_s, replace=False).values\n",
    "        group_1 = df_mobile_app_1_perm.purchase.sample(n_s, replace=False).values\n",
    "        res.append(stats.ttest_ind(group_0, group_1, equal_var=False)[1])\n",
    "    \n",
    "    plt.hist(res, bins = 50)\n",
    "    plt.style.use('ggplot')\n",
    "    plt.xlabel('pvalues')\n",
    "    plt.ylabel('frequency')\n",
    "    plt.title(\"Histogram of ttest A/A simulations of mobile app\")\n",
    "    plt.show() \n",
    "    \n",
    "    print(version)\n",
    "    print(f'FPR = {sum(np.array(res) <0.05) / simulations}')"
   ]
  },
  {
   "cell_type": "markdown",
   "id": "958cb0cf",
   "metadata": {},
   "source": [
    "Таким образом, можно сделать вывод о том, что система сплитования плохо работает с версией v2.8.0. Выбросим ее из рассмотрения и повторим А/А тест."
   ]
  },
  {
   "cell_type": "code",
   "execution_count": 33,
   "id": "fcb6e707",
   "metadata": {},
   "outputs": [],
   "source": [
    "df_mobile_app = df_mobile_app.query('version != \"v2.8.0\"')\n",
    "df_mobile_app_0 = df_mobile_app.query('experimentVariant == 0')\n",
    "df_mobile_app_1 = df_mobile_app.query('experimentVariant == 1')"
   ]
  },
  {
   "cell_type": "code",
   "execution_count": 36,
   "id": "3d3b7146",
   "metadata": {},
   "outputs": [
    {
     "data": {
      "application/vnd.jupyter.widget-view+json": {
       "model_id": "9155572b5dc14af69f093dcab1ac9ca0",
       "version_major": 2,
       "version_minor": 0
      },
      "text/plain": [
       "  0%|          | 0/1000 [00:00<?, ?it/s]"
      ]
     },
     "metadata": {},
     "output_type": "display_data"
    },
    {
     "data": {
      "image/png": "[encoded data removed]",
      "text/plain": [
       "<Figure size 432x288 with 1 Axes>"
      ]
     },
     "metadata": {},
     "output_type": "display_data"
    },
    {
     "data": {
      "text/plain": [
       "0.047"
      ]
     },
     "execution_count": 36,
     "metadata": {},
     "output_type": "execute_result"
    }
   ],
   "source": [
    "#А/А тест без v2.8.0\n",
    "simulations = 1000\n",
    "n_s = 1000\n",
    "res = []\n",
    "for i in tqdm(range(simulations)):\n",
    "    group_0 = df_mobile_app_0.purchase.sample(n_s, replace=False).values\n",
    "    group_1 = df_mobile_app_1.purchase.sample(n_s, replace=False).values\n",
    "    res.append(stats.ttest_ind(group_0, group_1, equal_var=False)[1])\n",
    "    \n",
    "\n",
    "plt.hist(res, bins = 50)\n",
    "plt.style.use('ggplot')\n",
    "plt.xlabel('pvalues')\n",
    "plt.ylabel('frequency')\n",
    "plt.title(\"Histogram of ttest A/A simulations of mobile app\")\n",
    "plt.show()\n",
    "sum(np.array(res)<0.05)/simulations"
   ]
  },
  {
   "cell_type": "markdown",
   "id": "e7aa5549",
   "metadata": {},
   "source": [
    "Получившееся значение меньше, чем изначально заданное альфа (0.05), следовательно, можно считать, что в системе сплитования есть поломка, которая связана с одной из версий мобильного приложения у одной из групп."
   ]
  },
  {
   "cell_type": "code",
   "execution_count": null,
   "id": "8b3233e0",
   "metadata": {},
   "outputs": [],
   "source": []
  }
 ],
 "metadata": {
  "kernelspec": {
   "display_name": "Python 3 (ipykernel)",
   "language": "python",
   "name": "python3"
  },
  "language_info": {
   "codemirror_mode": {
    "name": "ipython",
    "version": 3
   },
   "file_extension": ".py",
   "mimetype": "text/x-python",
   "name": "python",
   "nbconvert_exporter": "python",
   "pygments_lexer": "ipython3",
   "version": "3.8.10"
  }
 },
 "nbformat": 4,
 "nbformat_minor": 5
}
