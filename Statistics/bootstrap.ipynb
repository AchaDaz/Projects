{
 "cells": [
  {
   "cell_type": "code",
   "execution_count": 1,
   "id": "f4948fc7",
   "metadata": {},
   "outputs": [],
   "source": [
    "import pandas as pd\n",
    "import numpy as np\n",
    "from scipy.stats import norm, mannwhitneyu\n",
    "import matplotlib.pyplot as plt\n",
    "\n",
    "from tqdm.auto import tqdm\n",
    "\n"
   ]
  },
  {
   "cell_type": "code",
   "execution_count": 2,
   "id": "f5d0fa5a",
   "metadata": {},
   "outputs": [],
   "source": [
    "df_boot = pd.read_csv('hw_bootstrap.csv', sep=';', decimal=',')"
   ]
  },
  {
   "cell_type": "code",
   "execution_count": 3,
   "id": "d13bb323",
   "metadata": {},
   "outputs": [],
   "source": [
    "df_boot.drop('Unnamed: 0',axis=1, inplace=True)"
   ]
  },
  {
   "cell_type": "code",
   "execution_count": 4,
   "id": "5b8880e4",
   "metadata": {},
   "outputs": [],
   "source": [
    "df_boot = df_boot.rename(columns={'experimentVariant':'group'})"
   ]
  },
  {
   "cell_type": "code",
   "execution_count": 5,
   "id": "674d2f9b",
   "metadata": {},
   "outputs": [
    {
     "data": {
      "text/html": [
       "<div>\n",
       "<style scoped>\n",
       "    .dataframe tbody tr th:only-of-type {\n",
       "        vertical-align: middle;\n",
       "    }\n",
       "\n",
       "    .dataframe tbody tr th {\n",
       "        vertical-align: top;\n",
       "    }\n",
       "\n",
       "    .dataframe thead th {\n",
       "        text-align: right;\n",
       "    }\n",
       "</style>\n",
       "<table border=\"1\" class=\"dataframe\">\n",
       "  <thead>\n",
       "    <tr style=\"text-align: right;\">\n",
       "      <th></th>\n",
       "      <th>value</th>\n",
       "      <th>group</th>\n",
       "    </tr>\n",
       "  </thead>\n",
       "  <tbody>\n",
       "    <tr>\n",
       "      <th>0</th>\n",
       "      <td>10.380495</td>\n",
       "      <td>Control</td>\n",
       "    </tr>\n",
       "    <tr>\n",
       "      <th>1</th>\n",
       "      <td>9.546867</td>\n",
       "      <td>Control</td>\n",
       "    </tr>\n",
       "    <tr>\n",
       "      <th>2</th>\n",
       "      <td>11.088215</td>\n",
       "      <td>Control</td>\n",
       "    </tr>\n",
       "    <tr>\n",
       "      <th>3</th>\n",
       "      <td>10.147274</td>\n",
       "      <td>Control</td>\n",
       "    </tr>\n",
       "    <tr>\n",
       "      <th>4</th>\n",
       "      <td>9.789808</td>\n",
       "      <td>Control</td>\n",
       "    </tr>\n",
       "  </tbody>\n",
       "</table>\n",
       "</div>"
      ],
      "text/plain": [
       "       value    group\n",
       "0  10.380495  Control\n",
       "1   9.546867  Control\n",
       "2  11.088215  Control\n",
       "3  10.147274  Control\n",
       "4   9.789808  Control"
      ]
     },
     "execution_count": 5,
     "metadata": {},
     "output_type": "execute_result"
    }
   ],
   "source": [
    "df_boot.head()"
   ]
  },
  {
   "cell_type": "code",
   "execution_count": 6,
   "id": "cbead93b",
   "metadata": {},
   "outputs": [
    {
     "data": {
      "text/plain": [
       "array(['Control', 'Treatment'], dtype=object)"
      ]
     },
     "execution_count": 6,
     "metadata": {},
     "output_type": "execute_result"
    }
   ],
   "source": [
    "df_boot.group.unique()"
   ]
  },
  {
   "cell_type": "code",
   "execution_count": 7,
   "id": "c1512d7e",
   "metadata": {},
   "outputs": [
    {
     "data": {
      "text/plain": [
       "value    float64\n",
       "group     object\n",
       "dtype: object"
      ]
     },
     "execution_count": 7,
     "metadata": {},
     "output_type": "execute_result"
    }
   ],
   "source": [
    "df_boot.dtypes\n"
   ]
  },
  {
   "cell_type": "code",
   "execution_count": 8,
   "id": "01643166",
   "metadata": {},
   "outputs": [],
   "source": [
    "df_boot_control = df_boot.query('group == \"Control\"').value\n",
    "df_boot_test = df_boot.query('group == \"Treatment\"').value"
   ]
  },
  {
   "cell_type": "code",
   "execution_count": 9,
   "id": "cc6dda57",
   "metadata": {},
   "outputs": [
    {
     "data": {
      "text/plain": [
       "(500,)"
      ]
     },
     "execution_count": 9,
     "metadata": {},
     "output_type": "execute_result"
    }
   ],
   "source": [
    "df_boot_control.shape"
   ]
  },
  {
   "cell_type": "code",
   "execution_count": 10,
   "id": "359b9acf",
   "metadata": {},
   "outputs": [],
   "source": [
    "df_boot_control = pd.DataFrame(df_boot_control)\n",
    "df_boot_test = pd.DataFrame(df_boot_test)"
   ]
  },
  {
   "cell_type": "code",
   "execution_count": 11,
   "id": "aeff0d0a",
   "metadata": {},
   "outputs": [
    {
     "data": {
      "text/html": [
       "<div>\n",
       "<style scoped>\n",
       "    .dataframe tbody tr th:only-of-type {\n",
       "        vertical-align: middle;\n",
       "    }\n",
       "\n",
       "    .dataframe tbody tr th {\n",
       "        vertical-align: top;\n",
       "    }\n",
       "\n",
       "    .dataframe thead th {\n",
       "        text-align: right;\n",
       "    }\n",
       "</style>\n",
       "<table border=\"1\" class=\"dataframe\">\n",
       "  <thead>\n",
       "    <tr style=\"text-align: right;\">\n",
       "      <th></th>\n",
       "      <th>value</th>\n",
       "    </tr>\n",
       "  </thead>\n",
       "  <tbody>\n",
       "    <tr>\n",
       "      <th>0</th>\n",
       "      <td>10.380495</td>\n",
       "    </tr>\n",
       "    <tr>\n",
       "      <th>1</th>\n",
       "      <td>9.546867</td>\n",
       "    </tr>\n",
       "    <tr>\n",
       "      <th>2</th>\n",
       "      <td>11.088215</td>\n",
       "    </tr>\n",
       "    <tr>\n",
       "      <th>3</th>\n",
       "      <td>10.147274</td>\n",
       "    </tr>\n",
       "    <tr>\n",
       "      <th>4</th>\n",
       "      <td>9.789808</td>\n",
       "    </tr>\n",
       "    <tr>\n",
       "      <th>...</th>\n",
       "      <td>...</td>\n",
       "    </tr>\n",
       "    <tr>\n",
       "      <th>495</th>\n",
       "      <td>10.973929</td>\n",
       "    </tr>\n",
       "    <tr>\n",
       "      <th>496</th>\n",
       "      <td>10.261074</td>\n",
       "    </tr>\n",
       "    <tr>\n",
       "      <th>497</th>\n",
       "      <td>8.780090</td>\n",
       "    </tr>\n",
       "    <tr>\n",
       "      <th>498</th>\n",
       "      <td>11.169078</td>\n",
       "    </tr>\n",
       "    <tr>\n",
       "      <th>499</th>\n",
       "      <td>11.499566</td>\n",
       "    </tr>\n",
       "  </tbody>\n",
       "</table>\n",
       "<p>500 rows × 1 columns</p>\n",
       "</div>"
      ],
      "text/plain": [
       "         value\n",
       "0    10.380495\n",
       "1     9.546867\n",
       "2    11.088215\n",
       "3    10.147274\n",
       "4     9.789808\n",
       "..         ...\n",
       "495  10.973929\n",
       "496  10.261074\n",
       "497   8.780090\n",
       "498  11.169078\n",
       "499  11.499566\n",
       "\n",
       "[500 rows x 1 columns]"
      ]
     },
     "execution_count": 11,
     "metadata": {},
     "output_type": "execute_result"
    }
   ],
   "source": [
    "df_boot_control"
   ]
  },
  {
   "cell_type": "code",
   "execution_count": 12,
   "id": "e9d7a18f",
   "metadata": {},
   "outputs": [
    {
     "data": {
      "text/plain": [
       "MannwhitneyuResult(statistic=124189.5, pvalue=0.8592148582485579)"
      ]
     },
     "execution_count": 12,
     "metadata": {},
     "output_type": "execute_result"
    }
   ],
   "source": [
    "#Критерий Манна-Уитни\n",
    "mannwhitneyu(df_boot_control.value, df_boot_test.value)"
   ]
  },
  {
   "cell_type": "code",
   "execution_count": null,
   "id": "3b1154b2",
   "metadata": {},
   "outputs": [],
   "source": []
  },
  {
   "cell_type": "code",
   "execution_count": 13,
   "id": "ed42f67b",
   "metadata": {},
   "outputs": [],
   "source": [
    "#Считаем бутстрап с медианами\n",
    "def get_bootstrap(\n",
    "    control_values,\n",
    "    test_values,\n",
    "    boot_it=3000,\n",
    "    statistic=np.median,\n",
    "    bootstrap_conf_level = 0.95    \n",
    "):\n",
    "    boot_len = max([len(control_values), len(test_values)])\n",
    "    boot_data = []\n",
    "    for i in tqdm(range(boot_it)):\n",
    "        samples_control = control_values.sample(\n",
    "            boot_len,\n",
    "            replace=True\n",
    "        ).values\n",
    "        \n",
    "        samples_test = test_values.sample(\n",
    "            boot_len,\n",
    "            replace=True\n",
    "        ).values\n",
    "        \n",
    "        boot_data.append(statistic(samples_test-samples_control)) \n",
    "    \n",
    "    df_boot_data = pd.DataFrame(boot_data)\n",
    "    \n",
    "    left_quant = (1 - bootstrap_conf_level)/2\n",
    "    right_quant = 1 - (1 - bootstrap_conf_level)/2\n",
    "    ci = df_boot_data.quantile([left_quant, right_quant])\n",
    "    \n",
    "    p_1 = norm.cdf(\n",
    "        x = 0,\n",
    "        loc = np.mean(boot_data),\n",
    "        scale = np.std(boot_data)\n",
    "    )\n",
    "    \n",
    "    p_2 = norm.cdf(\n",
    "        x = 0,\n",
    "        loc = -np.mean(boot_data),\n",
    "        scale = np.std(boot_data)\n",
    "    )\n",
    "    \n",
    "    p_value = min(p_1, p_2) * 2\n",
    "    \n",
    "    \n",
    "    plt.hist(df_boot_data[0], bins = 50)\n",
    "    plt.vlines(ci,ymin=0,ymax=50,linestyle='--')\n",
    "    plt.vlines(statistic(boot_data), ymin=0, ymax=180, linestyle='-', colors='k')\n",
    "    plt.xlabel('boot_data')\n",
    "    plt.ylabel('frequency')\n",
    "    plt.title(\"Histogram of boot_data\")\n",
    "    plt.show()\n",
    "\n",
    "    return {\"boot_data\": boot_data, \n",
    "            \"ci\": ci, \n",
    "            \"p_value\": p_value}"
   ]
  },
  {
   "cell_type": "code",
   "execution_count": 14,
   "id": "bae03623",
   "metadata": {},
   "outputs": [
    {
     "data": {
      "application/vnd.jupyter.widget-view+json": {
       "model_id": "91d2fd2fe29a49c191981e2fdf871265",
       "version_major": 2,
       "version_minor": 0
      },
      "text/plain": [
       "  0%|          | 0/3000 [00:00<?, ?it/s]"
      ]
     },
     "metadata": {},
     "output_type": "display_data"
    },
    {
     "data": {
      "image/png": "[encoded data removed]",
      "text/plain": [
       "<Figure size 432x288 with 1 Axes>"
      ]
     },
     "metadata": {
      "needs_background": "light"
     },
     "output_type": "display_data"
    },
    {
     "data": {
      "text/plain": [
       "0.8871430793864832"
      ]
     },
     "execution_count": 14,
     "metadata": {},
     "output_type": "execute_result"
    }
   ],
   "source": [
    "#Для медианы\n",
    "get_bootstrap(df_boot_control.value, df_boot_test.value)['p_value']"
   ]
  },
  {
   "cell_type": "code",
   "execution_count": 15,
   "id": "cbf0a5ee",
   "metadata": {},
   "outputs": [
    {
     "data": {
      "application/vnd.jupyter.widget-view+json": {
       "model_id": "565bd9be6d094d37a15590d2795be964",
       "version_major": 2,
       "version_minor": 0
      },
      "text/plain": [
       "  0%|          | 0/3000 [00:00<?, ?it/s]"
      ]
     },
     "metadata": {},
     "output_type": "display_data"
    },
    {
     "data": {
      "image/png": "[encoded data removed]",
      "text/plain": [
       "<Figure size 432x288 with 1 Axes>"
      ]
     },
     "metadata": {
      "needs_background": "light"
     },
     "output_type": "display_data"
    },
    {
     "data": {
      "text/plain": [
       "0.03925592342014697"
      ]
     },
     "execution_count": 15,
     "metadata": {},
     "output_type": "execute_result"
    }
   ],
   "source": [
    "#Для среднего\n",
    "get_bootstrap(df_boot_control.value, df_boot_test.value, statistic=np.mean)['p_value']"
   ]
  },
  {
   "cell_type": "markdown",
   "id": "e2013f22",
   "metadata": {},
   "source": [
    "Таким образом, бутстрап по медиане и критерий Манна-Уитни показали, что статистически значимого различия между тестовой и контрольной группой нет. В то время как бутстрап по среднему дал статистически значимое различие."
   ]
  },
  {
   "cell_type": "markdown",
   "id": "52fb2197",
   "metadata": {},
   "source": [
    "Подобная ситуация говорит о том, что в данных присутствует либо несимметричное распределение, либо выбросы. Проверим на наличие выбросов."
   ]
  },
  {
   "cell_type": "code",
   "execution_count": 20,
   "id": "a159556c",
   "metadata": {},
   "outputs": [
    {
     "data": {
      "text/plain": [
       "0.9793773878665699"
      ]
     },
     "execution_count": 20,
     "metadata": {},
     "output_type": "execute_result"
    }
   ],
   "source": [
    "df_boot_control.std()[0]"
   ]
  },
  {
   "cell_type": "code",
   "execution_count": 19,
   "id": "99cf977b",
   "metadata": {},
   "outputs": [
    {
     "data": {
      "text/plain": [
       "186.55701125985144"
      ]
     },
     "execution_count": 19,
     "metadata": {},
     "output_type": "execute_result"
    }
   ],
   "source": [
    "df_boot_test.std()[0]"
   ]
  },
  {
   "cell_type": "code",
   "execution_count": 21,
   "id": "dedd8109",
   "metadata": {},
   "outputs": [
    {
     "data": {
      "text/plain": [
       "value    13.130346\n",
       "dtype: float64"
      ]
     },
     "execution_count": 21,
     "metadata": {},
     "output_type": "execute_result"
    }
   ],
   "source": [
    "df_boot_control.max()"
   ]
  },
  {
   "cell_type": "code",
   "execution_count": 22,
   "id": "c0623a05",
   "metadata": {},
   "outputs": [
    {
     "data": {
      "text/plain": [
       "value    6.436541\n",
       "dtype: float64"
      ]
     },
     "execution_count": 22,
     "metadata": {},
     "output_type": "execute_result"
    }
   ],
   "source": [
    "df_boot_control.min()"
   ]
  },
  {
   "cell_type": "code",
   "execution_count": 23,
   "id": "dff4b816",
   "metadata": {},
   "outputs": [
    {
     "data": {
      "text/plain": [
       "value    3000.0\n",
       "dtype: float64"
      ]
     },
     "execution_count": 23,
     "metadata": {},
     "output_type": "execute_result"
    }
   ],
   "source": [
    "df_boot_test.max()"
   ]
  },
  {
   "cell_type": "code",
   "execution_count": 24,
   "id": "4854a7ba",
   "metadata": {},
   "outputs": [
    {
     "data": {
      "text/plain": [
       "value    6.436541\n",
       "dtype: float64"
      ]
     },
     "execution_count": 24,
     "metadata": {},
     "output_type": "execute_result"
    }
   ],
   "source": [
    "df_boot_test.min()"
   ]
  },
  {
   "cell_type": "code",
   "execution_count": 27,
   "id": "e9f2e396",
   "metadata": {},
   "outputs": [
    {
     "data": {
      "text/html": [
       "<div>\n",
       "<style scoped>\n",
       "    .dataframe tbody tr th:only-of-type {\n",
       "        vertical-align: middle;\n",
       "    }\n",
       "\n",
       "    .dataframe tbody tr th {\n",
       "        vertical-align: top;\n",
       "    }\n",
       "\n",
       "    .dataframe thead th {\n",
       "        text-align: right;\n",
       "    }\n",
       "</style>\n",
       "<table border=\"1\" class=\"dataframe\">\n",
       "  <thead>\n",
       "    <tr style=\"text-align: right;\">\n",
       "      <th></th>\n",
       "      <th>value</th>\n",
       "    </tr>\n",
       "  </thead>\n",
       "  <tbody>\n",
       "    <tr>\n",
       "      <th>999</th>\n",
       "      <td>3000.000000</td>\n",
       "    </tr>\n",
       "    <tr>\n",
       "      <th>998</th>\n",
       "      <td>2000.000000</td>\n",
       "    </tr>\n",
       "    <tr>\n",
       "      <th>997</th>\n",
       "      <td>1500.000000</td>\n",
       "    </tr>\n",
       "    <tr>\n",
       "      <th>996</th>\n",
       "      <td>1200.000000</td>\n",
       "    </tr>\n",
       "    <tr>\n",
       "      <th>995</th>\n",
       "      <td>1000.000000</td>\n",
       "    </tr>\n",
       "    <tr>\n",
       "      <th>671</th>\n",
       "      <td>13.130346</td>\n",
       "    </tr>\n",
       "    <tr>\n",
       "      <th>695</th>\n",
       "      <td>12.817541</td>\n",
       "    </tr>\n",
       "    <tr>\n",
       "      <th>794</th>\n",
       "      <td>12.728285</td>\n",
       "    </tr>\n",
       "    <tr>\n",
       "      <th>863</th>\n",
       "      <td>12.663784</td>\n",
       "    </tr>\n",
       "    <tr>\n",
       "      <th>719</th>\n",
       "      <td>12.598569</td>\n",
       "    </tr>\n",
       "    <tr>\n",
       "      <th>915</th>\n",
       "      <td>12.511711</td>\n",
       "    </tr>\n",
       "    <tr>\n",
       "      <th>974</th>\n",
       "      <td>12.488277</td>\n",
       "    </tr>\n",
       "    <tr>\n",
       "      <th>511</th>\n",
       "      <td>12.389786</td>\n",
       "    </tr>\n",
       "    <tr>\n",
       "      <th>875</th>\n",
       "      <td>12.340248</td>\n",
       "    </tr>\n",
       "    <tr>\n",
       "      <th>940</th>\n",
       "      <td>12.241951</td>\n",
       "    </tr>\n",
       "    <tr>\n",
       "      <th>887</th>\n",
       "      <td>12.235453</td>\n",
       "    </tr>\n",
       "    <tr>\n",
       "      <th>772</th>\n",
       "      <td>12.200294</td>\n",
       "    </tr>\n",
       "    <tr>\n",
       "      <th>632</th>\n",
       "      <td>12.161718</td>\n",
       "    </tr>\n",
       "    <tr>\n",
       "      <th>517</th>\n",
       "      <td>12.155807</td>\n",
       "    </tr>\n",
       "    <tr>\n",
       "      <th>888</th>\n",
       "      <td>11.998758</td>\n",
       "    </tr>\n",
       "  </tbody>\n",
       "</table>\n",
       "</div>"
      ],
      "text/plain": [
       "           value\n",
       "999  3000.000000\n",
       "998  2000.000000\n",
       "997  1500.000000\n",
       "996  1200.000000\n",
       "995  1000.000000\n",
       "671    13.130346\n",
       "695    12.817541\n",
       "794    12.728285\n",
       "863    12.663784\n",
       "719    12.598569\n",
       "915    12.511711\n",
       "974    12.488277\n",
       "511    12.389786\n",
       "875    12.340248\n",
       "940    12.241951\n",
       "887    12.235453\n",
       "772    12.200294\n",
       "632    12.161718\n",
       "517    12.155807\n",
       "888    11.998758"
      ]
     },
     "execution_count": 27,
     "metadata": {},
     "output_type": "execute_result"
    }
   ],
   "source": [
    "df_boot_test.sort_values(by='value', ascending=False)[:20]"
   ]
  },
  {
   "cell_type": "markdown",
   "id": "eb332594",
   "metadata": {},
   "source": [
    "Судя по всему, в тестовой группе есть некоторые выбросы, число которых равно 5. Попробуем посчитать результат без них."
   ]
  },
  {
   "cell_type": "code",
   "execution_count": 30,
   "id": "741dc6a8",
   "metadata": {},
   "outputs": [],
   "source": [
    "df_boot_test_without_outliers = df_boot_test.sort_values(by='value', ascending=False)[5:]"
   ]
  },
  {
   "cell_type": "code",
   "execution_count": 31,
   "id": "f8773ad9",
   "metadata": {},
   "outputs": [
    {
     "data": {
      "application/vnd.jupyter.widget-view+json": {
       "model_id": "9f040224825b474289bc6bac7cb105e9",
       "version_major": 2,
       "version_minor": 0
      },
      "text/plain": [
       "  0%|          | 0/3000 [00:00<?, ?it/s]"
      ]
     },
     "metadata": {},
     "output_type": "display_data"
    },
    {
     "data": {
      "image/png": "[encoded data removed]",
      "text/plain": [
       "<Figure size 432x288 with 1 Axes>"
      ]
     },
     "metadata": {
      "needs_background": "light"
     },
     "output_type": "display_data"
    },
    {
     "data": {
      "text/plain": [
       "0.9521792660615482"
      ]
     },
     "execution_count": 31,
     "metadata": {},
     "output_type": "execute_result"
    }
   ],
   "source": [
    "get_bootstrap(df_boot_control.value, df_boot_test_without_outliers.value, statistic=np.mean)['p_value']"
   ]
  },
  {
   "cell_type": "markdown",
   "id": "325a0430",
   "metadata": {},
   "source": [
    "Таким образом, без учета выбросов бутстрап по среднему также показывает отсутствие статистически значимого различия. Это говорит о том, что на данный момент нет причин выкатывать тестовую версию на всех"
   ]
  },
  {
   "cell_type": "code",
   "execution_count": null,
   "id": "144a91d9",
   "metadata": {},
   "outputs": [],
   "source": []
  }
 ],
 "metadata": {
  "kernelspec": {
   "display_name": "Python 3 (ipykernel)",
   "language": "python",
   "name": "python3"
  },
  "language_info": {
   "codemirror_mode": {
    "name": "ipython",
    "version": 3
   },
   "file_extension": ".py",
   "mimetype": "text/x-python",
   "name": "python",
   "nbconvert_exporter": "python",
   "pygments_lexer": "ipython3",
   "version": "3.8.10"
  }
 },
 "nbformat": 4,
 "nbformat_minor": 5
}
