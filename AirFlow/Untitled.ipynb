{
 "cells": [
  {
   "cell_type": "code",
   "execution_count": 1,
   "id": "fadaccb0",
   "metadata": {},
   "outputs": [],
   "source": [
    "import pandas as pd"
   ]
  },
  {
   "cell_type": "code",
   "execution_count": 100,
   "id": "33f83ff0",
   "metadata": {},
   "outputs": [],
   "source": [
    "link = 'http://s3.amazonaws.com/alexa-static/top-1m.csv.zip'"
   ]
  },
  {
   "cell_type": "code",
   "execution_count": 101,
   "id": "62e15285",
   "metadata": {},
   "outputs": [],
   "source": [
    "df = pd.read_csv(link, names=['rank', 'domain'])"
   ]
  },
  {
   "cell_type": "code",
   "execution_count": 102,
   "id": "a142b054",
   "metadata": {},
   "outputs": [
    {
     "data": {
      "text/html": [
       "<div>\n",
       "<style scoped>\n",
       "    .dataframe tbody tr th:only-of-type {\n",
       "        vertical-align: middle;\n",
       "    }\n",
       "\n",
       "    .dataframe tbody tr th {\n",
       "        vertical-align: top;\n",
       "    }\n",
       "\n",
       "    .dataframe thead th {\n",
       "        text-align: right;\n",
       "    }\n",
       "</style>\n",
       "<table border=\"1\" class=\"dataframe\">\n",
       "  <thead>\n",
       "    <tr style=\"text-align: right;\">\n",
       "      <th></th>\n",
       "      <th>rank</th>\n",
       "      <th>domain</th>\n",
       "    </tr>\n",
       "  </thead>\n",
       "  <tbody>\n",
       "    <tr>\n",
       "      <th>0</th>\n",
       "      <td>1</td>\n",
       "      <td>google.com</td>\n",
       "    </tr>\n",
       "    <tr>\n",
       "      <th>1</th>\n",
       "      <td>2</td>\n",
       "      <td>youtube.com</td>\n",
       "    </tr>\n",
       "    <tr>\n",
       "      <th>2</th>\n",
       "      <td>3</td>\n",
       "      <td>baidu.com</td>\n",
       "    </tr>\n",
       "    <tr>\n",
       "      <th>3</th>\n",
       "      <td>4</td>\n",
       "      <td>facebook.com</td>\n",
       "    </tr>\n",
       "    <tr>\n",
       "      <th>4</th>\n",
       "      <td>5</td>\n",
       "      <td>qq.com</td>\n",
       "    </tr>\n",
       "  </tbody>\n",
       "</table>\n",
       "</div>"
      ],
      "text/plain": [
       "   rank        domain\n",
       "0     1    google.com\n",
       "1     2   youtube.com\n",
       "2     3     baidu.com\n",
       "3     4  facebook.com\n",
       "4     5        qq.com"
      ]
     },
     "execution_count": 102,
     "metadata": {},
     "output_type": "execute_result"
    }
   ],
   "source": [
    "df.head()"
   ]
  },
  {
   "cell_type": "code",
   "execution_count": 103,
   "id": "a11ee578",
   "metadata": {},
   "outputs": [],
   "source": [
    "df['dom'] = df.domain.str.split('.').apply(lambda x: x[1])"
   ]
  },
  {
   "cell_type": "code",
   "execution_count": 104,
   "id": "8d05c28b",
   "metadata": {},
   "outputs": [
    {
     "data": {
      "text/html": [
       "<div>\n",
       "<style scoped>\n",
       "    .dataframe tbody tr th:only-of-type {\n",
       "        vertical-align: middle;\n",
       "    }\n",
       "\n",
       "    .dataframe tbody tr th {\n",
       "        vertical-align: top;\n",
       "    }\n",
       "\n",
       "    .dataframe thead th {\n",
       "        text-align: right;\n",
       "    }\n",
       "</style>\n",
       "<table border=\"1\" class=\"dataframe\">\n",
       "  <thead>\n",
       "    <tr style=\"text-align: right;\">\n",
       "      <th></th>\n",
       "      <th>rank</th>\n",
       "      <th>domain</th>\n",
       "      <th>dom</th>\n",
       "    </tr>\n",
       "  </thead>\n",
       "  <tbody>\n",
       "    <tr>\n",
       "      <th>0</th>\n",
       "      <td>1</td>\n",
       "      <td>google.com</td>\n",
       "      <td>com</td>\n",
       "    </tr>\n",
       "    <tr>\n",
       "      <th>1</th>\n",
       "      <td>2</td>\n",
       "      <td>youtube.com</td>\n",
       "      <td>com</td>\n",
       "    </tr>\n",
       "    <tr>\n",
       "      <th>2</th>\n",
       "      <td>3</td>\n",
       "      <td>baidu.com</td>\n",
       "      <td>com</td>\n",
       "    </tr>\n",
       "    <tr>\n",
       "      <th>3</th>\n",
       "      <td>4</td>\n",
       "      <td>facebook.com</td>\n",
       "      <td>com</td>\n",
       "    </tr>\n",
       "    <tr>\n",
       "      <th>4</th>\n",
       "      <td>5</td>\n",
       "      <td>qq.com</td>\n",
       "      <td>com</td>\n",
       "    </tr>\n",
       "  </tbody>\n",
       "</table>\n",
       "</div>"
      ],
      "text/plain": [
       "   rank        domain  dom\n",
       "0     1    google.com  com\n",
       "1     2   youtube.com  com\n",
       "2     3     baidu.com  com\n",
       "3     4  facebook.com  com\n",
       "4     5        qq.com  com"
      ]
     },
     "execution_count": 104,
     "metadata": {},
     "output_type": "execute_result"
    }
   ],
   "source": [
    "df.head()"
   ]
  },
  {
   "cell_type": "code",
   "execution_count": 116,
   "id": "08ce77b1",
   "metadata": {},
   "outputs": [
    {
     "name": "stdout",
     "output_type": "stream",
     "text": [
      "        dom  quantity\n",
      "0       com    350457\n",
      "1        ru     25384\n",
      "2       org     23775\n",
      "3       net     22052\n",
      "4        co     21343\n",
      "5        ir     15301\n",
      "6        in      9663\n",
      "7  blogspot      7263\n",
      "8        io      6302\n",
      "9       gov      5088\n"
     ]
    }
   ],
   "source": [
    "print(df.groupby('dom', as_index=False).agg({'domain': 'count'}).sort_values('domain', ascending=False).rename(columns={'domain':'quantity'}).head(10).reset_index(drop=True))\n"
   ]
  },
  {
   "cell_type": "code",
   "execution_count": null,
   "id": "84388098",
   "metadata": {},
   "outputs": [],
   "source": [
    "top_data_df = pd.read_csv(TOP_1M_DOMAINS_FILE, names=['rank', 'domain'])\n",
    "top_data_df['dom'] = top_data_df.domain.str.split('.').apply(lambda x: x[1])\n",
    "top_data_df.groupby('dom', as_index=False)\\\n",
    "           .agg({'domain': 'count'})\\\n",
    "           .sort_values('domain', ascending=False)\\\n",
    "           .rename(columns={'domain':'quantity'})\\\n",
    "           .head(10).reset_index(drop=True)"
   ]
  },
  {
   "cell_type": "code",
   "execution_count": 24,
   "id": "d8f514b4",
   "metadata": {},
   "outputs": [],
   "source": [
    "df['length'] = df.domain.apply(lambda x: len(x))"
   ]
  },
  {
   "cell_type": "code",
   "execution_count": 25,
   "id": "83069ee3",
   "metadata": {},
   "outputs": [
    {
     "data": {
      "text/html": [
       "<div>\n",
       "<style scoped>\n",
       "    .dataframe tbody tr th:only-of-type {\n",
       "        vertical-align: middle;\n",
       "    }\n",
       "\n",
       "    .dataframe tbody tr th {\n",
       "        vertical-align: top;\n",
       "    }\n",
       "\n",
       "    .dataframe thead th {\n",
       "        text-align: right;\n",
       "    }\n",
       "</style>\n",
       "<table border=\"1\" class=\"dataframe\">\n",
       "  <thead>\n",
       "    <tr style=\"text-align: right;\">\n",
       "      <th></th>\n",
       "      <th>rank</th>\n",
       "      <th>domain</th>\n",
       "      <th>dom</th>\n",
       "      <th>length</th>\n",
       "    </tr>\n",
       "  </thead>\n",
       "  <tbody>\n",
       "    <tr>\n",
       "      <th>0</th>\n",
       "      <td>1</td>\n",
       "      <td>google.com</td>\n",
       "      <td>com</td>\n",
       "      <td>10</td>\n",
       "    </tr>\n",
       "    <tr>\n",
       "      <th>1</th>\n",
       "      <td>2</td>\n",
       "      <td>youtube.com</td>\n",
       "      <td>com</td>\n",
       "      <td>11</td>\n",
       "    </tr>\n",
       "    <tr>\n",
       "      <th>2</th>\n",
       "      <td>3</td>\n",
       "      <td>baidu.com</td>\n",
       "      <td>com</td>\n",
       "      <td>9</td>\n",
       "    </tr>\n",
       "    <tr>\n",
       "      <th>3</th>\n",
       "      <td>4</td>\n",
       "      <td>facebook.com</td>\n",
       "      <td>com</td>\n",
       "      <td>12</td>\n",
       "    </tr>\n",
       "    <tr>\n",
       "      <th>4</th>\n",
       "      <td>5</td>\n",
       "      <td>qq.com</td>\n",
       "      <td>com</td>\n",
       "      <td>6</td>\n",
       "    </tr>\n",
       "  </tbody>\n",
       "</table>\n",
       "</div>"
      ],
      "text/plain": [
       "   rank        domain  dom  length\n",
       "0     1    google.com  com      10\n",
       "1     2   youtube.com  com      11\n",
       "2     3     baidu.com  com       9\n",
       "3     4  facebook.com  com      12\n",
       "4     5        qq.com  com       6"
      ]
     },
     "execution_count": 25,
     "metadata": {},
     "output_type": "execute_result"
    }
   ],
   "source": [
    "df.head()"
   ]
  },
  {
   "cell_type": "code",
   "execution_count": 41,
   "id": "3661aa30",
   "metadata": {},
   "outputs": [
    {
     "data": {
      "text/html": [
       "<div>\n",
       "<style scoped>\n",
       "    .dataframe tbody tr th:only-of-type {\n",
       "        vertical-align: middle;\n",
       "    }\n",
       "\n",
       "    .dataframe tbody tr th {\n",
       "        vertical-align: top;\n",
       "    }\n",
       "\n",
       "    .dataframe thead th {\n",
       "        text-align: right;\n",
       "    }\n",
       "</style>\n",
       "<table border=\"1\" class=\"dataframe\">\n",
       "  <thead>\n",
       "    <tr style=\"text-align: right;\">\n",
       "      <th></th>\n",
       "      <th>rank</th>\n",
       "      <th>domain</th>\n",
       "      <th>dom</th>\n",
       "      <th>length</th>\n",
       "    </tr>\n",
       "  </thead>\n",
       "  <tbody>\n",
       "    <tr>\n",
       "      <th>402370</th>\n",
       "      <td>402371</td>\n",
       "      <td>bafybeigqqzk2vhqndlfuqmvy4cnqq4ht3z3dg7l7t4sbd...</td>\n",
       "      <td>ipfs</td>\n",
       "      <td>74</td>\n",
       "    </tr>\n",
       "    <tr>\n",
       "      <th>236956</th>\n",
       "      <td>236957</td>\n",
       "      <td>bafybeigdfyf3y47pobw6xtv26pc6tspjhyyyt676izpgt...</td>\n",
       "      <td>ipfs</td>\n",
       "      <td>74</td>\n",
       "    </tr>\n",
       "    <tr>\n",
       "      <th>343962</th>\n",
       "      <td>343963</td>\n",
       "      <td>bafybeifsbkuttd6yc5kpyuafuf46jn272nt4w6caqsbkm...</td>\n",
       "      <td>ipfs</td>\n",
       "      <td>74</td>\n",
       "    </tr>\n",
       "    <tr>\n",
       "      <th>236955</th>\n",
       "      <td>236956</td>\n",
       "      <td>bafybeidkozzkkekljcgsnedw3fi5lkzxsiui46fkitg6g...</td>\n",
       "      <td>ipfs</td>\n",
       "      <td>74</td>\n",
       "    </tr>\n",
       "    <tr>\n",
       "      <th>564704</th>\n",
       "      <td>564705</td>\n",
       "      <td>bafybeibupvhlpu7gjtwzlmcpf3ptxyaa4jhx7xkzoiycl...</td>\n",
       "      <td>ipfs</td>\n",
       "      <td>74</td>\n",
       "    </tr>\n",
       "    <tr>\n",
       "      <th>...</th>\n",
       "      <td>...</td>\n",
       "      <td>...</td>\n",
       "      <td>...</td>\n",
       "      <td>...</td>\n",
       "    </tr>\n",
       "    <tr>\n",
       "      <th>350346</th>\n",
       "      <td>350347</td>\n",
       "      <td>7.to</td>\n",
       "      <td>to</td>\n",
       "      <td>4</td>\n",
       "    </tr>\n",
       "    <tr>\n",
       "      <th>7341</th>\n",
       "      <td>7342</td>\n",
       "      <td>6.cn</td>\n",
       "      <td>cn</td>\n",
       "      <td>4</td>\n",
       "    </tr>\n",
       "    <tr>\n",
       "      <th>154176</th>\n",
       "      <td>154177</td>\n",
       "      <td>5.ua</td>\n",
       "      <td>ua</td>\n",
       "      <td>4</td>\n",
       "    </tr>\n",
       "    <tr>\n",
       "      <th>149835</th>\n",
       "      <td>149836</td>\n",
       "      <td>4.cn</td>\n",
       "      <td>cn</td>\n",
       "      <td>4</td>\n",
       "    </tr>\n",
       "    <tr>\n",
       "      <th>545075</th>\n",
       "      <td>545076</td>\n",
       "      <td>1.fm</td>\n",
       "      <td>fm</td>\n",
       "      <td>4</td>\n",
       "    </tr>\n",
       "  </tbody>\n",
       "</table>\n",
       "<p>607126 rows × 4 columns</p>\n",
       "</div>"
      ],
      "text/plain": [
       "          rank                                             domain   dom  \\\n",
       "402370  402371  bafybeigqqzk2vhqndlfuqmvy4cnqq4ht3z3dg7l7t4sbd...  ipfs   \n",
       "236956  236957  bafybeigdfyf3y47pobw6xtv26pc6tspjhyyyt676izpgt...  ipfs   \n",
       "343962  343963  bafybeifsbkuttd6yc5kpyuafuf46jn272nt4w6caqsbkm...  ipfs   \n",
       "236955  236956  bafybeidkozzkkekljcgsnedw3fi5lkzxsiui46fkitg6g...  ipfs   \n",
       "564704  564705  bafybeibupvhlpu7gjtwzlmcpf3ptxyaa4jhx7xkzoiycl...  ipfs   \n",
       "...        ...                                                ...   ...   \n",
       "350346  350347                                               7.to    to   \n",
       "7341      7342                                               6.cn    cn   \n",
       "154176  154177                                               5.ua    ua   \n",
       "149835  149836                                               4.cn    cn   \n",
       "545075  545076                                               1.fm    fm   \n",
       "\n",
       "        length  \n",
       "402370      74  \n",
       "236956      74  \n",
       "343962      74  \n",
       "236955      74  \n",
       "564704      74  \n",
       "...        ...  \n",
       "350346       4  \n",
       "7341         4  \n",
       "154176       4  \n",
       "149835       4  \n",
       "545075       4  \n",
       "\n",
       "[607126 rows x 4 columns]"
      ]
     },
     "execution_count": 41,
     "metadata": {},
     "output_type": "execute_result"
    }
   ],
   "source": [
    "df.sort_values(['length', 'domain'], ascending=False)"
   ]
  },
  {
   "cell_type": "code",
   "execution_count": 45,
   "id": "348336cf",
   "metadata": {},
   "outputs": [
    {
     "data": {
      "text/plain": [
       "'bafybeigqqzk2vhqndlfuqmvy4cnqq4ht3z3dg7l7t4sbd5vkyd4go7ahwm.ipfs.dweb.link'"
      ]
     },
     "execution_count": 45,
     "metadata": {},
     "output_type": "execute_result"
    }
   ],
   "source": [
    "df.sort_values(['length', 'domain'], ascending=False).domain.head(1).to_list()[0]"
   ]
  },
  {
   "cell_type": "code",
   "execution_count": 46,
   "id": "9115f4db",
   "metadata": {},
   "outputs": [
    {
     "data": {
      "text/html": [
       "<div>\n",
       "<style scoped>\n",
       "    .dataframe tbody tr th:only-of-type {\n",
       "        vertical-align: middle;\n",
       "    }\n",
       "\n",
       "    .dataframe tbody tr th {\n",
       "        vertical-align: top;\n",
       "    }\n",
       "\n",
       "    .dataframe thead th {\n",
       "        text-align: right;\n",
       "    }\n",
       "</style>\n",
       "<table border=\"1\" class=\"dataframe\">\n",
       "  <thead>\n",
       "    <tr style=\"text-align: right;\">\n",
       "      <th></th>\n",
       "      <th>rank</th>\n",
       "      <th>domain</th>\n",
       "      <th>dom</th>\n",
       "      <th>length</th>\n",
       "    </tr>\n",
       "  </thead>\n",
       "  <tbody>\n",
       "    <tr>\n",
       "      <th>0</th>\n",
       "      <td>1</td>\n",
       "      <td>google.com</td>\n",
       "      <td>com</td>\n",
       "      <td>10</td>\n",
       "    </tr>\n",
       "    <tr>\n",
       "      <th>1</th>\n",
       "      <td>2</td>\n",
       "      <td>youtube.com</td>\n",
       "      <td>com</td>\n",
       "      <td>11</td>\n",
       "    </tr>\n",
       "    <tr>\n",
       "      <th>2</th>\n",
       "      <td>3</td>\n",
       "      <td>baidu.com</td>\n",
       "      <td>com</td>\n",
       "      <td>9</td>\n",
       "    </tr>\n",
       "    <tr>\n",
       "      <th>3</th>\n",
       "      <td>4</td>\n",
       "      <td>facebook.com</td>\n",
       "      <td>com</td>\n",
       "      <td>12</td>\n",
       "    </tr>\n",
       "    <tr>\n",
       "      <th>4</th>\n",
       "      <td>5</td>\n",
       "      <td>qq.com</td>\n",
       "      <td>com</td>\n",
       "      <td>6</td>\n",
       "    </tr>\n",
       "  </tbody>\n",
       "</table>\n",
       "</div>"
      ],
      "text/plain": [
       "   rank        domain  dom  length\n",
       "0     1    google.com  com      10\n",
       "1     2   youtube.com  com      11\n",
       "2     3     baidu.com  com       9\n",
       "3     4  facebook.com  com      12\n",
       "4     5        qq.com  com       6"
      ]
     },
     "execution_count": 46,
     "metadata": {},
     "output_type": "execute_result"
    }
   ],
   "source": [
    "df.head()"
   ]
  },
  {
   "cell_type": "code",
   "execution_count": 64,
   "id": "29cf3f2c",
   "metadata": {},
   "outputs": [
    {
     "data": {
      "text/html": [
       "<div>\n",
       "<style scoped>\n",
       "    .dataframe tbody tr th:only-of-type {\n",
       "        vertical-align: middle;\n",
       "    }\n",
       "\n",
       "    .dataframe tbody tr th {\n",
       "        vertical-align: top;\n",
       "    }\n",
       "\n",
       "    .dataframe thead th {\n",
       "        text-align: right;\n",
       "    }\n",
       "</style>\n",
       "<table border=\"1\" class=\"dataframe\">\n",
       "  <thead>\n",
       "    <tr style=\"text-align: right;\">\n",
       "      <th></th>\n",
       "      <th>rank</th>\n",
       "      <th>domain</th>\n",
       "    </tr>\n",
       "  </thead>\n",
       "  <tbody>\n",
       "  </tbody>\n",
       "</table>\n",
       "</div>"
      ],
      "text/plain": [
       "Empty DataFrame\n",
       "Columns: [rank, domain]\n",
       "Index: []"
      ]
     },
     "execution_count": 64,
     "metadata": {},
     "output_type": "execute_result"
    }
   ],
   "source": [
    "df.query('domain == \"airflow.apache.org\"')"
   ]
  },
  {
   "cell_type": "code",
   "execution_count": 49,
   "id": "05dbca44",
   "metadata": {},
   "outputs": [
    {
     "data": {
      "text/plain": [
       "rank       int64\n",
       "domain    object\n",
       "dom       object\n",
       "length     int64\n",
       "dtype: object"
      ]
     },
     "execution_count": 49,
     "metadata": {},
     "output_type": "execute_result"
    }
   ],
   "source": [
    "df.dtypes"
   ]
  },
  {
   "cell_type": "code",
   "execution_count": 50,
   "id": "0940e74d",
   "metadata": {},
   "outputs": [
    {
     "data": {
      "text/plain": [
       "(607126, 4)"
      ]
     },
     "execution_count": 50,
     "metadata": {},
     "output_type": "execute_result"
    }
   ],
   "source": [
    "df.shape"
   ]
  },
  {
   "cell_type": "code",
   "execution_count": 61,
   "id": "6f709c8c",
   "metadata": {},
   "outputs": [
    {
     "data": {
      "text/html": [
       "<div>\n",
       "<style scoped>\n",
       "    .dataframe tbody tr th:only-of-type {\n",
       "        vertical-align: middle;\n",
       "    }\n",
       "\n",
       "    .dataframe tbody tr th {\n",
       "        vertical-align: top;\n",
       "    }\n",
       "\n",
       "    .dataframe thead th {\n",
       "        text-align: right;\n",
       "    }\n",
       "</style>\n",
       "<table border=\"1\" class=\"dataframe\">\n",
       "  <thead>\n",
       "    <tr style=\"text-align: right;\">\n",
       "      <th></th>\n",
       "      <th>rank</th>\n",
       "      <th>domain</th>\n",
       "    </tr>\n",
       "  </thead>\n",
       "  <tbody>\n",
       "    <tr>\n",
       "      <th>0</th>\n",
       "      <td>1</td>\n",
       "      <td>google.com</td>\n",
       "    </tr>\n",
       "  </tbody>\n",
       "</table>\n",
       "</div>"
      ],
      "text/plain": [
       "   rank      domain\n",
       "0     1  google.com"
      ]
     },
     "execution_count": 61,
     "metadata": {},
     "output_type": "execute_result"
    }
   ],
   "source": [
    "df[df.domain == 'google.com']"
   ]
  },
  {
   "cell_type": "code",
   "execution_count": 62,
   "id": "f701b143",
   "metadata": {},
   "outputs": [
    {
     "data": {
      "text/html": [
       "<div>\n",
       "<style scoped>\n",
       "    .dataframe tbody tr th:only-of-type {\n",
       "        vertical-align: middle;\n",
       "    }\n",
       "\n",
       "    .dataframe tbody tr th {\n",
       "        vertical-align: top;\n",
       "    }\n",
       "\n",
       "    .dataframe thead th {\n",
       "        text-align: right;\n",
       "    }\n",
       "</style>\n",
       "<table border=\"1\" class=\"dataframe\">\n",
       "  <thead>\n",
       "    <tr style=\"text-align: right;\">\n",
       "      <th></th>\n",
       "      <th>rank</th>\n",
       "      <th>domain</th>\n",
       "    </tr>\n",
       "  </thead>\n",
       "  <tbody>\n",
       "    <tr>\n",
       "      <th>127807</th>\n",
       "      <td>127808</td>\n",
       "      <td>airflowau.myshopify.com</td>\n",
       "    </tr>\n",
       "    <tr>\n",
       "      <th>321268</th>\n",
       "      <td>321269</td>\n",
       "      <td>airflow-gbt.ru</td>\n",
       "    </tr>\n",
       "  </tbody>\n",
       "</table>\n",
       "</div>"
      ],
      "text/plain": [
       "          rank                   domain\n",
       "127807  127808  airflowau.myshopify.com\n",
       "321268  321269           airflow-gbt.ru"
      ]
     },
     "execution_count": 62,
     "metadata": {},
     "output_type": "execute_result"
    }
   ],
   "source": [
    "df[df.domain.str.startswith('airflow')]"
   ]
  },
  {
   "cell_type": "code",
   "execution_count": 97,
   "id": "233a2018",
   "metadata": {},
   "outputs": [],
   "source": [
    "\n",
    "position = df.query('domain == \"airflow.com\"')['rank'].to_list()\n",
    "if position:\n",
    "    position = position[0]\n",
    "else:\n",
    "    position = 'not found'"
   ]
  },
  {
   "cell_type": "code",
   "execution_count": 98,
   "id": "4c4a4127",
   "metadata": {},
   "outputs": [
    {
     "data": {
      "text/plain": [
       "'not found'"
      ]
     },
     "execution_count": 98,
     "metadata": {},
     "output_type": "execute_result"
    }
   ],
   "source": [
    "position"
   ]
  },
  {
   "cell_type": "code",
   "execution_count": 94,
   "id": "91535fab",
   "metadata": {},
   "outputs": [
    {
     "data": {
      "text/plain": [
       "1"
      ]
     },
     "execution_count": 94,
     "metadata": {},
     "output_type": "execute_result"
    }
   ],
   "source": [
    "position"
   ]
  },
  {
   "cell_type": "code",
   "execution_count": null,
   "id": "a37ddd85",
   "metadata": {},
   "outputs": [],
   "source": []
  }
 ],
 "metadata": {
  "kernelspec": {
   "display_name": "Python 3 (ipykernel)",
   "language": "python",
   "name": "python3"
  },
  "language_info": {
   "codemirror_mode": {
    "name": "ipython",
    "version": 3
   },
   "file_extension": ".py",
   "mimetype": "text/x-python",
   "name": "python",
   "nbconvert_exporter": "python",
   "pygments_lexer": "ipython3",
   "version": "3.8.10"
  }
 },
 "nbformat": 4,
 "nbformat_minor": 5
}
